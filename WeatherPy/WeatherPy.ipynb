{
 "cells": [
  {
   "cell_type": "markdown",
   "metadata": {},
   "source": [
    "# WeatherPy\n",
    "----\n",
    "\n",
    "#### Note\n",
    "* Instructions have been included for each segment. You do not have to follow them exactly, but they are included to help you think through the steps."
   ]
  },
  {
   "cell_type": "code",
   "execution_count": 1,
   "metadata": {},
   "outputs": [],
   "source": [
    "# Dependencies and Setup\n",
    "import matplotlib.pyplot as plt\n",
    "import pandas as pd\n",
    "import numpy as np\n",
    "import requests\n",
    "import scipy as sp\n",
    "from scipy.stats import linregress\n",
    "\n",
    "\n",
    "import time\n",
    "\n",
    "\n",
    "from scipy.stats import linregress\n",
    "\n",
    "# Import API key\n",
    "#from api_keys import weather_api_key\n",
    "from api_keys import weather_api_key\n",
    "from api_keys import  g_key\n",
    "#from weather_api import weather_api as api\n",
    "\n",
    "\n",
    "\n",
    "# Incorporated citipy to determine city based on latitude and longitude\n",
    "from citipy import citipy\n"
   ]
  },
  {
   "cell_type": "code",
   "execution_count": 2,
   "metadata": {},
   "outputs": [],
   "source": [
    "# Output File (CSV)\n",
    "output_data_file = \"output_data/cities.csv\""
   ]
  },
  {
   "cell_type": "code",
   "execution_count": 3,
   "metadata": {},
   "outputs": [
    {
     "data": {
      "text/html": [
       "<div>\n",
       "<style scoped>\n",
       "    .dataframe tbody tr th:only-of-type {\n",
       "        vertical-align: middle;\n",
       "    }\n",
       "\n",
       "    .dataframe tbody tr th {\n",
       "        vertical-align: top;\n",
       "    }\n",
       "\n",
       "    .dataframe thead th {\n",
       "        text-align: right;\n",
       "    }\n",
       "</style>\n",
       "<table border=\"1\" class=\"dataframe\">\n",
       "  <thead>\n",
       "    <tr style=\"text-align: right;\">\n",
       "      <th></th>\n",
       "      <th>Unnamed: 0</th>\n",
       "      <th>City</th>\n",
       "      <th>Country</th>\n",
       "      <th>Date</th>\n",
       "      <th>Latitude</th>\n",
       "      <th>Longitude</th>\n",
       "      <th>Max Temp(f)</th>\n",
       "      <th>Humidity</th>\n",
       "      <th>Wind Speed</th>\n",
       "      <th>Cloudiness</th>\n",
       "    </tr>\n",
       "  </thead>\n",
       "  <tbody>\n",
       "    <tr>\n",
       "      <th>0</th>\n",
       "      <td>0</td>\n",
       "      <td>Port Alfred</td>\n",
       "      <td>ZA</td>\n",
       "      <td>1613331959</td>\n",
       "      <td>-33.5906</td>\n",
       "      <td>26.8910</td>\n",
       "      <td>72.00</td>\n",
       "      <td>93</td>\n",
       "      <td>4.00</td>\n",
       "      <td>96</td>\n",
       "    </tr>\n",
       "    <tr>\n",
       "      <th>1</th>\n",
       "      <td>1</td>\n",
       "      <td>Hilo</td>\n",
       "      <td>US</td>\n",
       "      <td>1613331663</td>\n",
       "      <td>19.7297</td>\n",
       "      <td>-155.0900</td>\n",
       "      <td>70.00</td>\n",
       "      <td>83</td>\n",
       "      <td>5.75</td>\n",
       "      <td>90</td>\n",
       "    </tr>\n",
       "    <tr>\n",
       "      <th>2</th>\n",
       "      <td>2</td>\n",
       "      <td>Yashkul'</td>\n",
       "      <td>RU</td>\n",
       "      <td>1613332535</td>\n",
       "      <td>46.1711</td>\n",
       "      <td>45.3435</td>\n",
       "      <td>29.57</td>\n",
       "      <td>86</td>\n",
       "      <td>9.86</td>\n",
       "      <td>99</td>\n",
       "    </tr>\n",
       "    <tr>\n",
       "      <th>3</th>\n",
       "      <td>3</td>\n",
       "      <td>Santiago de Cao</td>\n",
       "      <td>PE</td>\n",
       "      <td>1613332535</td>\n",
       "      <td>-7.9589</td>\n",
       "      <td>-79.2392</td>\n",
       "      <td>71.60</td>\n",
       "      <td>88</td>\n",
       "      <td>11.50</td>\n",
       "      <td>75</td>\n",
       "    </tr>\n",
       "    <tr>\n",
       "      <th>4</th>\n",
       "      <td>4</td>\n",
       "      <td>Hecun</td>\n",
       "      <td>CN</td>\n",
       "      <td>1613332535</td>\n",
       "      <td>36.5333</td>\n",
       "      <td>114.1111</td>\n",
       "      <td>34.03</td>\n",
       "      <td>87</td>\n",
       "      <td>5.88</td>\n",
       "      <td>23</td>\n",
       "    </tr>\n",
       "  </tbody>\n",
       "</table>\n",
       "</div>"
      ],
      "text/plain": [
       "   Unnamed: 0             City Country        Date  Latitude  Longitude  \\\n",
       "0           0      Port Alfred      ZA  1613331959  -33.5906    26.8910   \n",
       "1           1             Hilo      US  1613331663   19.7297  -155.0900   \n",
       "2           2         Yashkul'      RU  1613332535   46.1711    45.3435   \n",
       "3           3  Santiago de Cao      PE  1613332535   -7.9589   -79.2392   \n",
       "4           4            Hecun      CN  1613332535   36.5333   114.1111   \n",
       "\n",
       "   Max Temp(f)  Humidity  Wind Speed  Cloudiness  \n",
       "0        72.00        93        4.00          96  \n",
       "1        70.00        83        5.75          90  \n",
       "2        29.57        86        9.86          99  \n",
       "3        71.60        88       11.50          75  \n",
       "4        34.03        87        5.88          23  "
      ]
     },
     "execution_count": 3,
     "metadata": {},
     "output_type": "execute_result"
    }
   ],
   "source": [
    "#read the csv file and display\n",
    "weatherData=pd.read_csv(output_data_file)\n",
    "weatherData.head()"
   ]
  },
  {
   "cell_type": "code",
   "execution_count": 4,
   "metadata": {
    "scrolled": true
   },
   "outputs": [],
   "source": [
    "# Range of latitudes and longitudes\n",
    "lat_range = (-90, 90)\n",
    "lng_range = (-180, 180)"
   ]
  },
  {
   "cell_type": "markdown",
   "metadata": {},
   "source": [
    "## Generate Cities List"
   ]
  },
  {
   "cell_type": "code",
   "execution_count": 5,
   "metadata": {},
   "outputs": [],
   "source": [
    "# List for holding lat_lngs and cities\n",
    "lat_lngs = []\n",
    "cities = []"
   ]
  },
  {
   "cell_type": "code",
   "execution_count": 6,
   "metadata": {},
   "outputs": [
    {
     "data": {
      "text/plain": [
       "606"
      ]
     },
     "execution_count": 6,
     "metadata": {},
     "output_type": "execute_result"
    }
   ],
   "source": [
    "# Create a set of random lat and lng combinations\n",
    "lats = np.random.uniform(lat_range[0], lat_range[1], size=1500)\n",
    "lngs = np.random.uniform(lng_range[0], lng_range[1], size=1500)\n",
    "lat_lngs = zip(lats, lngs)\n",
    "\n",
    "# Identify nearest city for each lat, lng combination\n",
    "for lat_lng in lat_lngs:\n",
    "    city = citipy.nearest_city(lat_lng[0], lat_lng[1]).city_name\n",
    "    \n",
    "    # If the city is unique, then add it to a our cities list\n",
    "    if city not in cities:\n",
    "        cities.append(city)\n",
    "\n",
    "# Print the city count to confirm sufficient count\n",
    "len(cities)"
   ]
  },
  {
   "cell_type": "markdown",
   "metadata": {},
   "source": [
    "### Perform API Calls\n",
    "* Perform a weather check on each city using a series of successive API calls.\n",
    "* Include a print log of each city as it'sbeing processed (with the city number and city name).\n"
   ]
  },
  {
   "cell_type": "code",
   "execution_count": 7,
   "metadata": {},
   "outputs": [],
   "source": [
    "#Url\n",
    "\n",
    "url = \"http://api.openweathermap.org/data/2.5/weather?q=\"\n",
    "extension = \"&units=imperial&appid=\""
   ]
  },
  {
   "cell_type": "code",
   "execution_count": 8,
   "metadata": {
    "scrolled": true
   },
   "outputs": [
    {
     "name": "stdout",
     "output_type": "stream",
     "text": [
      "Beginning Data Retrieval\n",
      "-----------------------------\n",
      "Processing Record 0 of 606 | avarua\n",
      "Processing Record 1 of 606 | jurm\n",
      "Processing Record 2 of 606 | alyangula\n",
      "Processing Record 3 of 606 | necochea\n",
      "Processing Record 4 of 606 | north bend\n",
      "Processing Record 5 of 606 | qaanaaq\n",
      "Processing Record 6 of 606 | rikitea\n",
      "Processing Record 7 of 606 | traverse city\n",
      "Processing Record 8 of 606 | hermanus\n",
      "Processing Record 9 of 606 | xai-xai\n",
      "Processing Record 10 of 606 | hilo\n",
      "Processing Record 11 of 606 | arraial do cabo\n",
      "Processing Record 12 of 606 | new norfolk\n",
      "Processing Record 13 of 606 | maniitsoq\n",
      "Processing Record 14 of 606 | darnah\n",
      "Processing Record 15 of 606 | aqtobe\n",
      "Processing Record 16 of 606 | albany\n",
      "Processing Record 17 of 606 | barrow\n",
      "Processing Record 18 of 606 | hasaki\n",
      "Processing Record 19 of 606 | ushuaia\n",
      "Processing Record 20 of 606 | lagoa\n",
      "Processing Record 21 of 606 | yellowknife\n",
      "Processing Record 22 of 606 | arroyo\n",
      "Processing Record 23 of 606 | saint george\n",
      "Processing Record 24 of 606 | merritt\n",
      "Processing Record 25 of 606 | hithadhoo\n",
      "City not found. Skipping...\n",
      "Processing Record 26 of 605 | severo-kurilsk\n",
      "Processing Record 27 of 605 | kaitangata\n",
      "Processing Record 28 of 605 | pedro ii\n",
      "Processing Record 29 of 605 | mataura\n",
      "Processing Record 30 of 605 | yerbogachen\n",
      "Processing Record 31 of 605 | bandarbeyla\n",
      "Processing Record 32 of 605 | atuona\n",
      "Processing Record 33 of 605 | kanakapura\n",
      "Processing Record 34 of 605 | jamestown\n",
      "Processing Record 35 of 605 | busselton\n",
      "Processing Record 36 of 605 | vanavara\n",
      "Processing Record 37 of 605 | ponta do sol\n",
      "Processing Record 38 of 605 | taua\n",
      "Processing Record 39 of 605 | kahramanmaras\n",
      "Processing Record 40 of 605 | tasiilaq\n",
      "Processing Record 41 of 605 | slave lake\n",
      "Processing Record 42 of 605 | johi\n",
      "Processing Record 43 of 605 | namatanai\n",
      "Processing Record 44 of 605 | thung song\n",
      "Processing Record 45 of 605 | talnakh\n",
      "Processing Record 46 of 605 | chokurdakh\n",
      "Processing Record 47 of 605 | stantsionno-oyashinskiy\n",
      "Processing Record 48 of 605 | port alfred\n",
      "Processing Record 49 of 605 | praia da vitoria\n",
      "Processing Record 50 of 605 | victoria\n",
      "Processing Record 51 of 605 | bredasdorp\n",
      "Processing Record 52 of 605 | kahului\n",
      "Processing Record 53 of 605 | cayenne\n",
      "Processing Record 54 of 605 | marsa matruh\n",
      "Processing Record 55 of 605 | nouakchott\n",
      "Processing Record 56 of 605 | sao joao da barra\n",
      "Processing Record 57 of 605 | salalah\n",
      "Processing Record 58 of 605 | shatsk\n",
      "Processing Record 59 of 605 | fort nelson\n",
      "Processing Record 60 of 605 | thompson\n",
      "Processing Record 61 of 605 | bluff\n",
      "Processing Record 62 of 605 | dikson\n",
      "Processing Record 63 of 605 | noumea\n",
      "Processing Record 64 of 605 | norman wells\n",
      "Processing Record 65 of 605 | bengkulu\n",
      "Processing Record 66 of 605 | port macquarie\n",
      "Processing Record 67 of 605 | fairbanks\n",
      "Processing Record 68 of 605 | vaini\n",
      "Processing Record 69 of 605 | lethem\n",
      "Processing Record 70 of 605 | provideniya\n",
      "Processing Record 71 of 605 | jardim\n",
      "Processing Record 72 of 605 | klaksvik\n",
      "Processing Record 73 of 605 | kapaa\n",
      "Processing Record 74 of 605 | punta arenas\n",
      "Processing Record 75 of 605 | husavik\n",
      "Processing Record 76 of 605 | saint-philippe\n",
      "Processing Record 77 of 605 | lebu\n",
      "Processing Record 78 of 605 | chern\n",
      "Processing Record 79 of 605 | ipameri\n",
      "City not found. Skipping...\n",
      "Processing Record 80 of 604 | chuy\n",
      "Processing Record 81 of 604 | northam\n",
      "Processing Record 82 of 604 | caravelas\n",
      "Processing Record 83 of 604 | bereda\n",
      "Processing Record 84 of 604 | lakatoro\n",
      "Processing Record 85 of 604 | tura\n",
      "Processing Record 86 of 604 | tocopilla\n",
      "Processing Record 87 of 604 | asau\n",
      "Processing Record 88 of 604 | flin flon\n",
      "Processing Record 89 of 604 | fortuna\n",
      "Processing Record 90 of 604 | manaia\n",
      "Processing Record 91 of 604 | penzance\n",
      "City not found. Skipping...\n",
      "Processing Record 92 of 603 | bulls\n",
      "Processing Record 93 of 603 | upernavik\n",
      "Processing Record 94 of 603 | san carlos de bariloche\n",
      "City not found. Skipping...\n",
      "Processing Record 95 of 602 | aquiraz\n",
      "Processing Record 96 of 602 | johnston\n",
      "Processing Record 97 of 602 | cabo san lucas\n",
      "Processing Record 98 of 602 | ilulissat\n",
      "Processing Record 99 of 602 | colares\n",
      "Processing Record 100 of 602 | buala\n",
      "Processing Record 101 of 602 | saint-joseph\n",
      "Processing Record 102 of 602 | meulaboh\n",
      "Processing Record 103 of 602 | ribeira grande\n",
      "Processing Record 104 of 602 | price\n",
      "Processing Record 105 of 602 | itoman\n",
      "Processing Record 106 of 602 | harwich\n",
      "Processing Record 107 of 602 | bonthe\n",
      "Processing Record 108 of 602 | tuktoyaktuk\n",
      "City not found. Skipping...\n",
      "Processing Record 109 of 601 | chapais\n",
      "Processing Record 110 of 601 | vila\n",
      "Processing Record 111 of 601 | pevek\n",
      "Processing Record 112 of 601 | kemijarvi\n",
      "Processing Record 113 of 601 | vanderhoof\n",
      "Processing Record 114 of 601 | college\n",
      "City not found. Skipping...\n",
      "Processing Record 115 of 600 | san rafael\n",
      "Processing Record 116 of 600 | boma\n",
      "Processing Record 117 of 600 | francisco sa\n",
      "Processing Record 118 of 600 | goderich\n",
      "Processing Record 119 of 600 | emerald\n",
      "Processing Record 120 of 600 | ozernovskiy\n",
      "Processing Record 121 of 600 | khatanga\n",
      "Processing Record 122 of 600 | nikolskoye\n",
      "Processing Record 123 of 600 | harper\n",
      "Processing Record 124 of 600 | cape town\n",
      "Processing Record 125 of 600 | portmore\n",
      "Processing Record 126 of 600 | mahebourg\n",
      "Processing Record 127 of 600 | kodiak\n",
      "City not found. Skipping...\n",
      "Processing Record 128 of 599 | bambous virieux\n",
      "Processing Record 129 of 599 | hofn\n",
      "Processing Record 130 of 599 | stanger\n",
      "Processing Record 131 of 599 | shitanjing\n",
      "Processing Record 132 of 599 | waipawa\n",
      "Processing Record 133 of 599 | pafos\n",
      "Processing Record 134 of 599 | sitka\n",
      "City not found. Skipping...\n",
      "Processing Record 135 of 598 | beringovskiy\n",
      "Processing Record 136 of 598 | east brainerd\n",
      "Processing Record 137 of 598 | manadhoo\n",
      "City not found. Skipping...\n",
      "Processing Record 138 of 597 | corcoran\n",
      "Processing Record 139 of 597 | kuito\n",
      "Processing Record 140 of 597 | egvekinot\n",
      "Processing Record 141 of 597 | steinkjer\n",
      "Processing Record 142 of 597 | umm kaddadah\n",
      "Processing Record 143 of 597 | batemans bay\n",
      "City not found. Skipping...\n",
      "Processing Record 144 of 596 | pakxan\n",
      "Processing Record 145 of 596 | jaisalmer\n",
      "Processing Record 146 of 596 | katsuura\n",
      "Processing Record 147 of 596 | barra patuca\n",
      "Processing Record 148 of 596 | sarishabari\n",
      "City not found. Skipping...\n",
      "City not found. Skipping...\n",
      "Processing Record 149 of 594 | port elizabeth\n",
      "Processing Record 150 of 594 | souillac\n",
      "City not found. Skipping...\n",
      "Processing Record 151 of 593 | vangaindrano\n",
      "Processing Record 152 of 593 | palmer\n",
      "Processing Record 153 of 593 | vestmannaeyjar\n",
      "Processing Record 154 of 593 | kapiri mposhi\n",
      "Processing Record 155 of 593 | los reyes acozac\n",
      "Processing Record 156 of 593 | bhanpuri\n",
      "Processing Record 157 of 593 | cherskiy\n",
      "Processing Record 158 of 593 | belaya kholunitsa\n",
      "Processing Record 159 of 593 | half moon bay\n",
      "Processing Record 160 of 593 | castro\n",
      "Processing Record 161 of 593 | cooma\n",
      "Processing Record 162 of 593 | kavieng\n",
      "Processing Record 163 of 593 | bauchi\n",
      "Processing Record 164 of 593 | airai\n",
      "Processing Record 165 of 593 | ola\n",
      "Processing Record 166 of 593 | berzence\n",
      "Processing Record 167 of 593 | puerto ayora\n",
      "Processing Record 168 of 593 | kavaratti\n",
      "Processing Record 169 of 593 | cidreira\n",
      "Processing Record 170 of 593 | purpe\n",
      "Processing Record 171 of 593 | maputo\n",
      "Processing Record 172 of 593 | salinas\n",
      "Processing Record 173 of 593 | piacabucu\n",
      "Processing Record 174 of 593 | ayan\n",
      "Processing Record 175 of 593 | longyearbyen\n",
      "Processing Record 176 of 593 | aksarka\n",
      "Processing Record 177 of 593 | horni plana\n",
      "Processing Record 178 of 593 | togur\n",
      "Processing Record 179 of 593 | dunyapur\n",
      "Processing Record 180 of 593 | carnarvon\n",
      "Processing Record 181 of 593 | kamenka\n",
      "Processing Record 182 of 593 | lincoln\n",
      "Processing Record 183 of 593 | san benito\n",
      "Processing Record 184 of 593 | masallatah\n",
      "Processing Record 185 of 593 | araouane\n",
      "Processing Record 186 of 593 | benicarlo\n",
      "Processing Record 187 of 593 | yulara\n",
      "Processing Record 188 of 593 | zhanakorgan\n",
      "Processing Record 189 of 593 | saskylakh\n",
      "Processing Record 190 of 593 | butaritari\n",
      "Processing Record 191 of 593 | rocha\n",
      "Processing Record 192 of 593 | hambantota\n",
      "Processing Record 193 of 593 | san patricio\n",
      "Processing Record 194 of 593 | hobart\n"
     ]
    },
    {
     "name": "stdout",
     "output_type": "stream",
     "text": [
      "Processing Record 195 of 593 | jumla\n",
      "City not found. Skipping...\n",
      "Processing Record 196 of 592 | yuanping\n",
      "Processing Record 197 of 592 | paamiut\n",
      "Processing Record 198 of 592 | tattayyangarpettai\n",
      "Processing Record 199 of 592 | inuvik\n",
      "Processing Record 200 of 592 | los llanos de aridane\n",
      "Processing Record 201 of 592 | sant pere de ribes\n",
      "Processing Record 202 of 592 | sao filipe\n",
      "Processing Record 203 of 592 | sawtell\n",
      "Processing Record 204 of 592 | ligayan\n",
      "Processing Record 205 of 592 | leningradskiy\n",
      "Processing Record 206 of 592 | petukhovo\n",
      "City not found. Skipping...\n",
      "Processing Record 207 of 591 | yantal\n",
      "Processing Record 208 of 591 | makat\n",
      "Processing Record 209 of 591 | seddon\n",
      "Processing Record 210 of 591 | geraldton\n",
      "Processing Record 211 of 591 | umea\n",
      "Processing Record 212 of 591 | muisne\n",
      "Processing Record 213 of 591 | faanui\n",
      "Processing Record 214 of 591 | torbay\n",
      "Processing Record 215 of 591 | muncie\n",
      "Processing Record 216 of 591 | teknaf\n",
      "Processing Record 217 of 591 | abdanan\n",
      "Processing Record 218 of 591 | te anau\n",
      "Processing Record 219 of 591 | aksu\n",
      "Processing Record 220 of 591 | vardo\n",
      "Processing Record 221 of 591 | tra vinh\n",
      "Processing Record 222 of 591 | east london\n",
      "Processing Record 223 of 591 | kirgiz-miyaki\n",
      "Processing Record 224 of 591 | nome\n",
      "Processing Record 225 of 591 | ponta delgada\n",
      "Processing Record 226 of 591 | saldanha\n",
      "Processing Record 227 of 591 | mahajanga\n",
      "Processing Record 228 of 591 | tuatapere\n",
      "Processing Record 229 of 591 | mitsamiouli\n",
      "City not found. Skipping...\n",
      "Processing Record 230 of 590 | zhangye\n",
      "City not found. Skipping...\n",
      "Processing Record 231 of 589 | hami\n",
      "City not found. Skipping...\n",
      "Processing Record 232 of 588 | lompoc\n",
      "Processing Record 233 of 588 | salgueiro\n",
      "Processing Record 234 of 588 | georgetown\n",
      "Processing Record 235 of 588 | la paz centro\n",
      "Processing Record 236 of 588 | luderitz\n",
      "Processing Record 237 of 588 | mubi\n",
      "Processing Record 238 of 588 | komatipoort\n",
      "City not found. Skipping...\n",
      "Processing Record 239 of 587 | constitucion\n",
      "Processing Record 240 of 587 | yeppoon\n",
      "Processing Record 241 of 587 | fort myers beach\n",
      "Processing Record 242 of 587 | bethel\n",
      "Processing Record 243 of 587 | synya\n",
      "Processing Record 244 of 587 | sabang\n",
      "City not found. Skipping...\n",
      "Processing Record 245 of 586 | shingu\n",
      "Processing Record 246 of 586 | naze\n",
      "Processing Record 247 of 586 | aurillac\n",
      "Processing Record 248 of 586 | taoudenni\n",
      "Processing Record 249 of 586 | tiksi\n",
      "Processing Record 250 of 586 | gorey\n",
      "City not found. Skipping...\n",
      "Processing Record 251 of 585 | zafarwal\n",
      "Processing Record 252 of 585 | sur\n",
      "Processing Record 253 of 585 | xunchang\n",
      "Processing Record 254 of 585 | marzuq\n",
      "City not found. Skipping...\n",
      "Processing Record 255 of 584 | iwanai\n",
      "Processing Record 256 of 584 | mar del plata\n",
      "Processing Record 257 of 584 | portland\n",
      "Processing Record 258 of 584 | camabatela\n",
      "Processing Record 259 of 584 | mandla\n",
      "Processing Record 260 of 584 | natal\n",
      "Processing Record 261 of 584 | skjervoy\n",
      "Processing Record 262 of 584 | murgab\n",
      "Processing Record 263 of 584 | nabire\n",
      "Processing Record 264 of 584 | lorengau\n",
      "Processing Record 265 of 584 | tefe\n",
      "Processing Record 266 of 584 | boueni\n",
      "Processing Record 267 of 584 | aykhal\n",
      "Processing Record 268 of 584 | dhidhdhoo\n",
      "Processing Record 269 of 584 | touros\n",
      "Processing Record 270 of 584 | bathsheba\n",
      "Processing Record 271 of 584 | loa janan\n",
      "Processing Record 272 of 584 | saint-francois\n",
      "Processing Record 273 of 584 | esperance\n",
      "Processing Record 274 of 584 | rzhev\n",
      "Processing Record 275 of 584 | benguela\n",
      "Processing Record 276 of 584 | oranjemund\n",
      "Processing Record 277 of 584 | narsaq\n",
      "Processing Record 278 of 584 | aklavik\n",
      "Processing Record 279 of 584 | lavrentiya\n",
      "Processing Record 280 of 584 | babylon\n",
      "Processing Record 281 of 584 | clyde river\n",
      "Processing Record 282 of 584 | kangaatsiaq\n",
      "Processing Record 283 of 584 | grand island\n",
      "Processing Record 284 of 584 | adrar\n",
      "Processing Record 285 of 584 | sibu\n",
      "Processing Record 286 of 584 | marawi\n",
      "Processing Record 287 of 584 | opuwo\n",
      "City not found. Skipping...\n",
      "Processing Record 288 of 583 | qaqortoq\n",
      "Processing Record 289 of 583 | shimoda\n",
      "Processing Record 290 of 583 | svetlogorsk\n",
      "Processing Record 291 of 583 | sao sepe\n",
      "Processing Record 292 of 583 | acapulco\n",
      "Processing Record 293 of 583 | moerai\n",
      "Processing Record 294 of 583 | akcakoca\n",
      "Processing Record 295 of 583 | lubao\n",
      "Processing Record 296 of 583 | dicabisagan\n",
      "Processing Record 297 of 583 | yuyao\n",
      "Processing Record 298 of 583 | mar de espanha\n",
      "Processing Record 299 of 583 | cockburn town\n",
      "Processing Record 300 of 583 | melville\n",
      "Processing Record 301 of 583 | serebryanyy bor\n",
      "Processing Record 302 of 583 | novosheshminsk\n",
      "Processing Record 303 of 583 | hastings\n",
      "Processing Record 304 of 583 | joshimath\n",
      "Processing Record 305 of 583 | port moresby\n",
      "Processing Record 306 of 583 | atar\n",
      "Processing Record 307 of 583 | tautira\n",
      "Processing Record 308 of 583 | yagodnoye\n",
      "Processing Record 309 of 583 | mitu\n",
      "Processing Record 310 of 583 | carutapera\n",
      "City not found. Skipping...\n",
      "City not found. Skipping...\n",
      "Processing Record 311 of 581 | cairns\n",
      "Processing Record 312 of 581 | takestan\n",
      "Processing Record 313 of 581 | perpignan\n",
      "Processing Record 314 of 581 | okhotsk\n",
      "Processing Record 315 of 581 | springbok\n",
      "Processing Record 316 of 581 | dingle\n",
      "Processing Record 317 of 581 | monticello\n",
      "Processing Record 318 of 581 | quatre cocos\n",
      "Processing Record 319 of 581 | erzin\n",
      "Processing Record 320 of 581 | domoni\n",
      "Processing Record 321 of 581 | hamilton\n",
      "Processing Record 322 of 581 | salta\n",
      "Processing Record 323 of 581 | durant\n",
      "Processing Record 324 of 581 | laguna\n",
      "City not found. Skipping...\n",
      "City not found. Skipping...\n",
      "Processing Record 325 of 579 | chodavaram\n",
      "Processing Record 326 of 579 | saint-prosper\n",
      "Processing Record 327 of 579 | sept-iles\n",
      "Processing Record 328 of 579 | nemuro\n",
      "Processing Record 329 of 579 | ekhabi\n",
      "Processing Record 330 of 579 | turkistan\n",
      "City not found. Skipping...\n",
      "Processing Record 331 of 578 | sioux lookout\n",
      "Processing Record 332 of 578 | verkhoyansk\n",
      "Processing Record 333 of 578 | vila velha\n",
      "Processing Record 334 of 578 | byron bay\n",
      "Processing Record 335 of 578 | buraydah\n",
      "Processing Record 336 of 578 | lamu\n",
      "Processing Record 337 of 578 | khasan\n",
      "Processing Record 338 of 578 | lexington\n",
      "Processing Record 339 of 578 | ulaanbaatar\n",
      "Processing Record 340 of 578 | ipora\n",
      "Processing Record 341 of 578 | kendari\n",
      "Processing Record 342 of 578 | rabo de peixe\n",
      "Processing Record 343 of 578 | nanganga\n",
      "Processing Record 344 of 578 | port hardy\n",
      "Processing Record 345 of 578 | ankazoabo\n",
      "Processing Record 346 of 578 | ahipara\n",
      "Processing Record 347 of 578 | kefamenanu\n",
      "Processing Record 348 of 578 | rawson\n",
      "Processing Record 349 of 578 | santa isabel do rio negro\n",
      "Processing Record 350 of 578 | sambava\n",
      "Processing Record 351 of 578 | sola\n",
      "Processing Record 352 of 578 | kawalu\n",
      "Processing Record 353 of 578 | cancun\n",
      "Processing Record 354 of 578 | zaraza\n",
      "City not found. Skipping...\n",
      "Processing Record 355 of 577 | padang\n",
      "Processing Record 356 of 577 | tarancon\n",
      "Processing Record 357 of 577 | kachug\n",
      "Processing Record 358 of 577 | ishigaki\n",
      "Processing Record 359 of 577 | coihaique\n",
      "Processing Record 360 of 577 | kieta\n",
      "Processing Record 361 of 577 | namibe\n",
      "City not found. Skipping...\n",
      "Processing Record 362 of 576 | copiapo\n",
      "Processing Record 363 of 576 | mirabela\n",
      "Processing Record 364 of 576 | barcelos\n",
      "Processing Record 365 of 576 | anadyr\n",
      "Processing Record 366 of 576 | bedele\n",
      "Processing Record 367 of 576 | totness\n",
      "Processing Record 368 of 576 | kysyl-syr\n",
      "Processing Record 369 of 576 | keetmanshoop\n",
      "Processing Record 370 of 576 | shelburne\n",
      "Processing Record 371 of 576 | san cristobal\n",
      "Processing Record 372 of 576 | berbera\n",
      "Processing Record 373 of 576 | coquimbo\n",
      "Processing Record 374 of 576 | lieksa\n",
      "Processing Record 375 of 576 | sistranda\n",
      "Processing Record 376 of 576 | karratha\n",
      "Processing Record 377 of 576 | tazovskiy\n",
      "City not found. Skipping...\n",
      "Processing Record 378 of 575 | jiwani\n",
      "Processing Record 379 of 575 | cabatuan\n",
      "Processing Record 380 of 575 | kloulklubed\n",
      "Processing Record 381 of 575 | gigmoto\n",
      "Processing Record 382 of 575 | sandy bay\n",
      "Processing Record 383 of 575 | moulins\n",
      "Processing Record 384 of 575 | broome\n",
      "Processing Record 385 of 575 | yali\n",
      "Processing Record 386 of 575 | zenzeli\n"
     ]
    },
    {
     "name": "stdout",
     "output_type": "stream",
     "text": [
      "Processing Record 387 of 575 | vengerovo\n",
      "Processing Record 388 of 575 | the valley\n",
      "Processing Record 389 of 575 | qasigiannguit\n",
      "Processing Record 390 of 575 | nuristan\n",
      "Processing Record 391 of 575 | stara vyzhivka\n",
      "Processing Record 392 of 575 | puerto suarez\n",
      "Processing Record 393 of 575 | prabumulih\n",
      "Processing Record 394 of 575 | ginir\n",
      "Processing Record 395 of 575 | isangel\n",
      "Processing Record 396 of 575 | arcata\n",
      "Processing Record 397 of 575 | timbiqui\n",
      "Processing Record 398 of 575 | sechura\n",
      "Processing Record 399 of 575 | grindavik\n",
      "Processing Record 400 of 575 | mayo\n",
      "Processing Record 401 of 575 | axim\n",
      "Processing Record 402 of 575 | mahibadhoo\n",
      "Processing Record 403 of 575 | taltal\n",
      "Processing Record 404 of 575 | brenham\n",
      "Processing Record 405 of 575 | manacapuru\n",
      "Processing Record 406 of 575 | canico\n",
      "Processing Record 407 of 575 | mocuba\n",
      "Processing Record 408 of 575 | benin\n",
      "Processing Record 409 of 575 | luang prabang\n",
      "City not found. Skipping...\n",
      "Processing Record 410 of 574 | meadow lake\n",
      "City not found. Skipping...\n",
      "City not found. Skipping...\n",
      "City not found. Skipping...\n",
      "Processing Record 411 of 571 | ciudad del maiz\n",
      "City not found. Skipping...\n",
      "Processing Record 412 of 570 | araxa\n",
      "Processing Record 413 of 570 | udachnyy\n",
      "Processing Record 414 of 570 | soyo\n",
      "Processing Record 415 of 570 | la paz\n",
      "Processing Record 416 of 570 | hidalgotitlan\n",
      "Processing Record 417 of 570 | katangli\n",
      "Processing Record 418 of 570 | korla\n",
      "Processing Record 419 of 570 | pinawa\n",
      "Processing Record 420 of 570 | ucluelet\n",
      "Processing Record 421 of 570 | luwuk\n",
      "Processing Record 422 of 570 | voskresenskoye\n",
      "Processing Record 423 of 570 | port-cartier\n",
      "Processing Record 424 of 570 | ostrovnoy\n",
      "Processing Record 425 of 570 | abaza\n",
      "Processing Record 426 of 570 | mezen\n",
      "Processing Record 427 of 570 | najran\n",
      "Processing Record 428 of 570 | pochutla\n",
      "Processing Record 429 of 570 | lindsay\n",
      "Processing Record 430 of 570 | wenling\n",
      "City not found. Skipping...\n",
      "City not found. Skipping...\n",
      "Processing Record 431 of 568 | flinders\n",
      "Processing Record 432 of 568 | coffeyville\n",
      "Processing Record 433 of 568 | ajdabiya\n",
      "Processing Record 434 of 568 | moose factory\n",
      "Processing Record 435 of 568 | ongandjera\n",
      "Processing Record 436 of 568 | lazaro cardenas\n",
      "Processing Record 437 of 568 | rio gallegos\n",
      "Processing Record 438 of 568 | panorama\n",
      "Processing Record 439 of 568 | shilovo\n",
      "Processing Record 440 of 568 | saint anthony\n",
      "Processing Record 441 of 568 | santa clara\n",
      "Processing Record 442 of 568 | honiara\n",
      "City not found. Skipping...\n",
      "Processing Record 443 of 567 | khromtau\n",
      "Processing Record 444 of 567 | roald\n",
      "Processing Record 445 of 567 | port-gentil\n",
      "Processing Record 446 of 567 | bowen\n",
      "Processing Record 447 of 567 | poum\n",
      "Processing Record 448 of 567 | ulagan\n",
      "Processing Record 449 of 567 | baghmara\n",
      "Processing Record 450 of 567 | richards bay\n",
      "Processing Record 451 of 567 | andenes\n",
      "Processing Record 452 of 567 | walvis bay\n",
      "Processing Record 453 of 567 | itapetininga\n",
      "Processing Record 454 of 567 | senador jose porfirio\n",
      "Processing Record 455 of 567 | labuhan\n",
      "Processing Record 456 of 567 | behshahr\n",
      "Processing Record 457 of 567 | luorong\n",
      "Processing Record 458 of 567 | mount gambier\n",
      "Processing Record 459 of 567 | sassandra\n",
      "Processing Record 460 of 567 | voi\n",
      "Processing Record 461 of 567 | tiarei\n",
      "Processing Record 462 of 567 | grand gaube\n",
      "Processing Record 463 of 567 | bulawayo\n",
      "Processing Record 464 of 567 | reus\n",
      "Processing Record 465 of 567 | tarakan\n",
      "Processing Record 466 of 567 | ranong\n",
      "City not found. Skipping...\n",
      "City not found. Skipping...\n",
      "City not found. Skipping...\n",
      "Processing Record 467 of 564 | nouadhibou\n",
      "Processing Record 468 of 564 | harlingen\n",
      "Processing Record 469 of 564 | codrington\n",
      "Processing Record 470 of 564 | tupik\n",
      "Processing Record 471 of 564 | winslow\n",
      "Processing Record 472 of 564 | houma\n",
      "Processing Record 473 of 564 | oleksandrivka\n",
      "Processing Record 474 of 564 | ambulu\n",
      "Processing Record 475 of 564 | rajampet\n",
      "Processing Record 476 of 564 | goundam\n",
      "Processing Record 477 of 564 | mount isa\n",
      "Processing Record 478 of 564 | kamaishi\n",
      "Processing Record 479 of 564 | kyra\n",
      "Processing Record 480 of 564 | lewistown\n",
      "Processing Record 481 of 564 | sao raimundo das mangabeiras\n",
      "Processing Record 482 of 564 | pangnirtung\n",
      "Processing Record 483 of 564 | baiyin\n",
      "Processing Record 484 of 564 | porto novo\n",
      "Processing Record 485 of 564 | matagami\n",
      "Processing Record 486 of 564 | lagos\n",
      "Processing Record 487 of 564 | narasannapeta\n",
      "Processing Record 488 of 564 | vostok\n",
      "Processing Record 489 of 564 | straumen\n",
      "Processing Record 490 of 564 | alofi\n",
      "Processing Record 491 of 564 | ancud\n",
      "Processing Record 492 of 564 | beloha\n",
      "Processing Record 493 of 564 | bacolod\n",
      "Processing Record 494 of 564 | sibenik\n",
      "Processing Record 495 of 564 | port blair\n",
      "Processing Record 496 of 564 | kisanga\n",
      "Processing Record 497 of 564 | jinchang\n",
      "Processing Record 498 of 564 | jawhar\n",
      "Processing Record 499 of 564 | ryuo\n",
      "Processing Record 500 of 564 | havre-saint-pierre\n",
      "Processing Record 501 of 564 | iqaluit\n",
      "Processing Record 502 of 564 | karatuzskoye\n",
      "Processing Record 503 of 564 | prince rupert\n",
      "Processing Record 504 of 564 | batagay-alyta\n",
      "Processing Record 505 of 564 | qui nhon\n",
      "Processing Record 506 of 564 | belyy yar\n",
      "Processing Record 507 of 564 | high rock\n",
      "Processing Record 508 of 564 | teguldet\n",
      "Processing Record 509 of 564 | constantine\n",
      "Processing Record 510 of 564 | mikhaylovka\n",
      "Processing Record 511 of 564 | valparaiso\n",
      "Processing Record 512 of 564 | porto velho\n",
      "Processing Record 513 of 564 | tazmalt\n",
      "Processing Record 514 of 564 | makakilo city\n",
      "Processing Record 515 of 564 | abonnema\n",
      "Processing Record 516 of 564 | mwense\n",
      "Processing Record 517 of 564 | rizhao\n",
      "Processing Record 518 of 564 | scottsbluff\n",
      "Processing Record 519 of 564 | le vauclin\n",
      "Processing Record 520 of 564 | general pico\n",
      "City not found. Skipping...\n",
      "Processing Record 521 of 563 | vila franca do campo\n",
      "Processing Record 522 of 563 | tulsa\n",
      "Processing Record 523 of 563 | mackay\n",
      "Processing Record 524 of 563 | grand baie\n",
      "Processing Record 525 of 563 | bentiu\n",
      "Processing Record 526 of 563 | caohai\n",
      "Processing Record 527 of 563 | karasjok\n",
      "Processing Record 528 of 563 | ust-karsk\n",
      "Processing Record 529 of 563 | high prairie\n",
      "Processing Record 530 of 563 | japura\n",
      "Processing Record 531 of 563 | cardston\n",
      "Processing Record 532 of 563 | lasa\n",
      "Processing Record 533 of 563 | kismayo\n",
      "Processing Record 534 of 563 | port hedland\n",
      "Processing Record 535 of 563 | saint-augustin\n",
      "City not found. Skipping...\n",
      "Processing Record 536 of 562 | mayumba\n",
      "Processing Record 537 of 562 | samarai\n",
      "Processing Record 538 of 562 | santiago del estero\n",
      "Processing Record 539 of 562 | palampur\n",
      "City not found. Skipping...\n",
      "Processing Record 540 of 561 | maxixe\n",
      "Processing Record 541 of 561 | mehamn\n",
      "Processing Record 542 of 561 | formosa\n",
      "Processing Record 543 of 561 | johor bahru\n",
      "Processing Record 544 of 561 | turayf\n",
      "Processing Record 545 of 561 | macouria\n",
      "Processing Record 546 of 561 | the pas\n",
      "Processing Record 547 of 561 | boffa\n",
      "Processing Record 548 of 561 | saint-raymond\n",
      "Processing Record 549 of 561 | harnosand\n",
      "City not found. Skipping...\n",
      "Processing Record 550 of 560 | hearst\n",
      "Processing Record 551 of 560 | bonavista\n",
      "Processing Record 552 of 560 | palauig\n",
      "Processing Record 553 of 560 | guerrero negro\n",
      "Processing Record 554 of 560 | sabzevar\n",
      "Processing Record 555 of 560 | sao jose da coroa grande\n",
      "Processing Record 556 of 560 | turki\n",
      "Processing Record 557 of 560 | pisco\n",
      "Processing Record 558 of 560 | haines junction\n",
      "City not found. Skipping...\n"
     ]
    }
   ],
   "source": [
    "location_name = []\n",
    "location_country = []\n",
    "date = []\n",
    "latitude = []\n",
    "longitude = []\n",
    "max_temperature = []\n",
    "humidity = []\n",
    "wind_speed = []\n",
    "cloudiness = []\n",
    "\n",
    "city_counter=0\n",
    "tot_cities=len(cities)\n",
    "\n",
    "print(\"Beginning Data Retrieval\")\n",
    "print(\"-----------------------------\")\n",
    "for city in cities:\n",
    "    success=True\n",
    "    data_json = requests.get(url+city+extension+weather_api_key)\n",
    "    time.sleep(1)\n",
    "\n",
    "    data_json = data_json.json()\n",
    "    \n",
    "    # code By Lecture or from class\n",
    "    try:\n",
    "        location_name.append(data_json['name'])\n",
    "        location_country.append(data_json['sys']['country'])\n",
    "        date.append(data_json['dt'])\n",
    "        latitude.append(data_json['coord']['lat'])\n",
    "        longitude.append(data_json['coord']['lon'])\n",
    "        max_temperature.append(data_json['main']['temp_max'])\n",
    "        humidity.append(data_json['main']['humidity'])\n",
    "        wind_speed.append(data_json['wind']['speed'])\n",
    "        cloudiness.append(data_json['clouds']['all'])\n",
    "        success=True\n",
    "        \n",
    "    except:\n",
    "        tot_cities -= 1\n",
    "        city_counter = city_counter\n",
    "        print(f\"City not found. Skipping...\")\n",
    "        success=False\n",
    "        \n",
    "    if success:\n",
    "        print(f\"Processing Record {city_counter} of {tot_cities} | {city}\")\n",
    "        city_counter += 1\n"
   ]
  },
  {
   "cell_type": "code",
   "execution_count": null,
   "metadata": {},
   "outputs": [],
   "source": []
  },
  {
   "cell_type": "markdown",
   "metadata": {},
   "source": [
    "### Convert Raw Data to DataFrame\n",
    "* Export the city data into a .csv.\n",
    "* Display the DataFrame"
   ]
  },
  {
   "cell_type": "code",
   "execution_count": 9,
   "metadata": {},
   "outputs": [
    {
     "data": {
      "text/html": [
       "<div>\n",
       "<style scoped>\n",
       "    .dataframe tbody tr th:only-of-type {\n",
       "        vertical-align: middle;\n",
       "    }\n",
       "\n",
       "    .dataframe tbody tr th {\n",
       "        vertical-align: top;\n",
       "    }\n",
       "\n",
       "    .dataframe thead th {\n",
       "        text-align: right;\n",
       "    }\n",
       "</style>\n",
       "<table border=\"1\" class=\"dataframe\">\n",
       "  <thead>\n",
       "    <tr style=\"text-align: right;\">\n",
       "      <th></th>\n",
       "      <th>0</th>\n",
       "    </tr>\n",
       "  </thead>\n",
       "  <tbody>\n",
       "    <tr>\n",
       "      <th>City</th>\n",
       "      <td>559</td>\n",
       "    </tr>\n",
       "    <tr>\n",
       "      <th>Country</th>\n",
       "      <td>559</td>\n",
       "    </tr>\n",
       "    <tr>\n",
       "      <th>Date</th>\n",
       "      <td>559</td>\n",
       "    </tr>\n",
       "    <tr>\n",
       "      <th>Latitude</th>\n",
       "      <td>559</td>\n",
       "    </tr>\n",
       "    <tr>\n",
       "      <th>Longitude</th>\n",
       "      <td>559</td>\n",
       "    </tr>\n",
       "    <tr>\n",
       "      <th>Max Temp(f)</th>\n",
       "      <td>559</td>\n",
       "    </tr>\n",
       "    <tr>\n",
       "      <th>Humidity</th>\n",
       "      <td>559</td>\n",
       "    </tr>\n",
       "    <tr>\n",
       "      <th>Wind Speed</th>\n",
       "      <td>559</td>\n",
       "    </tr>\n",
       "    <tr>\n",
       "      <th>Cloudiness</th>\n",
       "      <td>559</td>\n",
       "    </tr>\n",
       "  </tbody>\n",
       "</table>\n",
       "</div>"
      ],
      "text/plain": [
       "               0\n",
       "City         559\n",
       "Country      559\n",
       "Date         559\n",
       "Latitude     559\n",
       "Longitude    559\n",
       "Max Temp(f)  559\n",
       "Humidity     559\n",
       "Wind Speed   559\n",
       "Cloudiness   559"
      ]
     },
     "execution_count": 9,
     "metadata": {},
     "output_type": "execute_result"
    }
   ],
   "source": [
    "weather_df = pd.DataFrame({\n",
    "    #\"City ID\":len(ids),\n",
    "    \"City\":len(location_name),\n",
    "    \"Country\":len(location_country),\n",
    "    \"Date\":len(date),\n",
    "    \"Latitude\":len(latitude),\n",
    "    \"Longitude\":len(longitude),\n",
    "    \"Max Temp(f)\":len(max_temperature),\n",
    "    \"Humidity\":len(humidity),\n",
    "    \"Wind Speed\":len(wind_speed),\n",
    "    \"Cloudiness\":len(cloudiness),\n",
    "},index=[0]).transpose()\n",
    "weather_df"
   ]
  },
  {
   "cell_type": "code",
   "execution_count": 16,
   "metadata": {},
   "outputs": [],
   "source": [
    "\n",
    "# Save city data into a csv file\n",
    "weather_df.to_csv(\"output_data/new_city.csv\")\n"
   ]
  },
  {
   "cell_type": "markdown",
   "metadata": {},
   "source": [
    "## Inspect the data and remove the cities where the humidity > 100%.\n",
    "----\n",
    "Skip this step if there are no cities that have humidity > 100%. "
   ]
  },
  {
   "cell_type": "code",
   "execution_count": 13,
   "metadata": {},
   "outputs": [
    {
     "data": {
      "text/html": [
       "<div>\n",
       "<style scoped>\n",
       "    .dataframe tbody tr th:only-of-type {\n",
       "        vertical-align: middle;\n",
       "    }\n",
       "\n",
       "    .dataframe tbody tr th {\n",
       "        vertical-align: top;\n",
       "    }\n",
       "\n",
       "    .dataframe thead th {\n",
       "        text-align: right;\n",
       "    }\n",
       "</style>\n",
       "<table border=\"1\" class=\"dataframe\">\n",
       "  <thead>\n",
       "    <tr style=\"text-align: right;\">\n",
       "      <th></th>\n",
       "      <th>City</th>\n",
       "      <th>Country</th>\n",
       "      <th>Date</th>\n",
       "      <th>Latitude</th>\n",
       "      <th>Longitude</th>\n",
       "      <th>Max Temp(f)</th>\n",
       "      <th>Humidity</th>\n",
       "      <th>Wind Speed</th>\n",
       "      <th>Cloudiness</th>\n",
       "    </tr>\n",
       "  </thead>\n",
       "  <tbody>\n",
       "    <tr>\n",
       "      <th>0</th>\n",
       "      <td>Avarua</td>\n",
       "      <td>CK</td>\n",
       "      <td>1613335308</td>\n",
       "      <td>-21.2078</td>\n",
       "      <td>-159.7750</td>\n",
       "      <td>84.20</td>\n",
       "      <td>79</td>\n",
       "      <td>4.61</td>\n",
       "      <td>20</td>\n",
       "    </tr>\n",
       "    <tr>\n",
       "      <th>1</th>\n",
       "      <td>Jurm</td>\n",
       "      <td>AF</td>\n",
       "      <td>1613335309</td>\n",
       "      <td>36.8648</td>\n",
       "      <td>70.8342</td>\n",
       "      <td>33.76</td>\n",
       "      <td>70</td>\n",
       "      <td>5.55</td>\n",
       "      <td>31</td>\n",
       "    </tr>\n",
       "    <tr>\n",
       "      <th>2</th>\n",
       "      <td>Alyangula</td>\n",
       "      <td>AU</td>\n",
       "      <td>1613335310</td>\n",
       "      <td>-13.8483</td>\n",
       "      <td>136.4192</td>\n",
       "      <td>80.60</td>\n",
       "      <td>89</td>\n",
       "      <td>4.61</td>\n",
       "      <td>98</td>\n",
       "    </tr>\n",
       "    <tr>\n",
       "      <th>3</th>\n",
       "      <td>Necochea</td>\n",
       "      <td>AR</td>\n",
       "      <td>1613335311</td>\n",
       "      <td>-38.5473</td>\n",
       "      <td>-58.7368</td>\n",
       "      <td>69.01</td>\n",
       "      <td>89</td>\n",
       "      <td>11.99</td>\n",
       "      <td>100</td>\n",
       "    </tr>\n",
       "    <tr>\n",
       "      <th>4</th>\n",
       "      <td>North Bend</td>\n",
       "      <td>US</td>\n",
       "      <td>1613335313</td>\n",
       "      <td>43.4065</td>\n",
       "      <td>-124.2243</td>\n",
       "      <td>50.00</td>\n",
       "      <td>81</td>\n",
       "      <td>6.91</td>\n",
       "      <td>90</td>\n",
       "    </tr>\n",
       "    <tr>\n",
       "      <th>...</th>\n",
       "      <td>...</td>\n",
       "      <td>...</td>\n",
       "      <td>...</td>\n",
       "      <td>...</td>\n",
       "      <td>...</td>\n",
       "      <td>...</td>\n",
       "      <td>...</td>\n",
       "      <td>...</td>\n",
       "      <td>...</td>\n",
       "    </tr>\n",
       "    <tr>\n",
       "      <th>554</th>\n",
       "      <td>Sabzawār</td>\n",
       "      <td>IR</td>\n",
       "      <td>1613335922</td>\n",
       "      <td>36.2126</td>\n",
       "      <td>57.6819</td>\n",
       "      <td>50.65</td>\n",
       "      <td>45</td>\n",
       "      <td>6.87</td>\n",
       "      <td>0</td>\n",
       "    </tr>\n",
       "    <tr>\n",
       "      <th>555</th>\n",
       "      <td>São José da Coroa Grande</td>\n",
       "      <td>BR</td>\n",
       "      <td>1613335893</td>\n",
       "      <td>-8.8978</td>\n",
       "      <td>-35.1478</td>\n",
       "      <td>79.25</td>\n",
       "      <td>81</td>\n",
       "      <td>10.56</td>\n",
       "      <td>46</td>\n",
       "    </tr>\n",
       "    <tr>\n",
       "      <th>556</th>\n",
       "      <td>Turki</td>\n",
       "      <td>RU</td>\n",
       "      <td>1613336017</td>\n",
       "      <td>51.9870</td>\n",
       "      <td>43.2731</td>\n",
       "      <td>-3.91</td>\n",
       "      <td>92</td>\n",
       "      <td>8.72</td>\n",
       "      <td>54</td>\n",
       "    </tr>\n",
       "    <tr>\n",
       "      <th>557</th>\n",
       "      <td>Pisco</td>\n",
       "      <td>PE</td>\n",
       "      <td>1613336018</td>\n",
       "      <td>-13.7000</td>\n",
       "      <td>-76.2167</td>\n",
       "      <td>80.60</td>\n",
       "      <td>57</td>\n",
       "      <td>17.27</td>\n",
       "      <td>0</td>\n",
       "    </tr>\n",
       "    <tr>\n",
       "      <th>558</th>\n",
       "      <td>Haines Junction</td>\n",
       "      <td>CA</td>\n",
       "      <td>1613336020</td>\n",
       "      <td>60.7522</td>\n",
       "      <td>-137.5108</td>\n",
       "      <td>-14.80</td>\n",
       "      <td>53</td>\n",
       "      <td>2.30</td>\n",
       "      <td>56</td>\n",
       "    </tr>\n",
       "  </tbody>\n",
       "</table>\n",
       "<p>550 rows × 9 columns</p>\n",
       "</div>"
      ],
      "text/plain": [
       "                         City Country        Date  Latitude  Longitude  \\\n",
       "0                      Avarua      CK  1613335308  -21.2078  -159.7750   \n",
       "1                        Jurm      AF  1613335309   36.8648    70.8342   \n",
       "2                   Alyangula      AU  1613335310  -13.8483   136.4192   \n",
       "3                    Necochea      AR  1613335311  -38.5473   -58.7368   \n",
       "4                  North Bend      US  1613335313   43.4065  -124.2243   \n",
       "..                        ...     ...         ...       ...        ...   \n",
       "554                  Sabzawār      IR  1613335922   36.2126    57.6819   \n",
       "555  São José da Coroa Grande      BR  1613335893   -8.8978   -35.1478   \n",
       "556                     Turki      RU  1613336017   51.9870    43.2731   \n",
       "557                     Pisco      PE  1613336018  -13.7000   -76.2167   \n",
       "558           Haines Junction      CA  1613336020   60.7522  -137.5108   \n",
       "\n",
       "     Max Temp(f)  Humidity  Wind Speed  Cloudiness  \n",
       "0          84.20        79        4.61          20  \n",
       "1          33.76        70        5.55          31  \n",
       "2          80.60        89        4.61          98  \n",
       "3          69.01        89       11.99         100  \n",
       "4          50.00        81        6.91          90  \n",
       "..           ...       ...         ...         ...  \n",
       "554        50.65        45        6.87           0  \n",
       "555        79.25        81       10.56          46  \n",
       "556        -3.91        92        8.72          54  \n",
       "557        80.60        57       17.27           0  \n",
       "558       -14.80        53        2.30          56  \n",
       "\n",
       "[550 rows x 9 columns]"
      ]
     },
     "execution_count": 13,
     "metadata": {},
     "output_type": "execute_result"
    }
   ],
   "source": [
    "cleaned_data_df = weather_df[weather_df[\"Humidity\"] < 100]\n",
    "cleaned_data_df"
   ]
  },
  {
   "cell_type": "code",
   "execution_count": 10,
   "metadata": {},
   "outputs": [
    {
     "data": {
      "text/html": [
       "<div>\n",
       "<style scoped>\n",
       "    .dataframe tbody tr th:only-of-type {\n",
       "        vertical-align: middle;\n",
       "    }\n",
       "\n",
       "    .dataframe tbody tr th {\n",
       "        vertical-align: top;\n",
       "    }\n",
       "\n",
       "    .dataframe thead th {\n",
       "        text-align: right;\n",
       "    }\n",
       "</style>\n",
       "<table border=\"1\" class=\"dataframe\">\n",
       "  <thead>\n",
       "    <tr style=\"text-align: right;\">\n",
       "      <th></th>\n",
       "      <th>City</th>\n",
       "      <th>Country</th>\n",
       "      <th>Date</th>\n",
       "      <th>Latitude</th>\n",
       "      <th>Longitude</th>\n",
       "      <th>Max Temp(f)</th>\n",
       "      <th>Humidity</th>\n",
       "      <th>Wind Speed</th>\n",
       "      <th>Cloudiness</th>\n",
       "    </tr>\n",
       "  </thead>\n",
       "  <tbody>\n",
       "    <tr>\n",
       "      <th>0</th>\n",
       "      <td>Avarua</td>\n",
       "      <td>CK</td>\n",
       "      <td>1613335308</td>\n",
       "      <td>-21.2078</td>\n",
       "      <td>-159.7750</td>\n",
       "      <td>84.20</td>\n",
       "      <td>79</td>\n",
       "      <td>4.61</td>\n",
       "      <td>20</td>\n",
       "    </tr>\n",
       "    <tr>\n",
       "      <th>1</th>\n",
       "      <td>Jurm</td>\n",
       "      <td>AF</td>\n",
       "      <td>1613335309</td>\n",
       "      <td>36.8648</td>\n",
       "      <td>70.8342</td>\n",
       "      <td>33.76</td>\n",
       "      <td>70</td>\n",
       "      <td>5.55</td>\n",
       "      <td>31</td>\n",
       "    </tr>\n",
       "    <tr>\n",
       "      <th>2</th>\n",
       "      <td>Alyangula</td>\n",
       "      <td>AU</td>\n",
       "      <td>1613335310</td>\n",
       "      <td>-13.8483</td>\n",
       "      <td>136.4192</td>\n",
       "      <td>80.60</td>\n",
       "      <td>89</td>\n",
       "      <td>4.61</td>\n",
       "      <td>98</td>\n",
       "    </tr>\n",
       "    <tr>\n",
       "      <th>3</th>\n",
       "      <td>Necochea</td>\n",
       "      <td>AR</td>\n",
       "      <td>1613335311</td>\n",
       "      <td>-38.5473</td>\n",
       "      <td>-58.7368</td>\n",
       "      <td>69.01</td>\n",
       "      <td>89</td>\n",
       "      <td>11.99</td>\n",
       "      <td>100</td>\n",
       "    </tr>\n",
       "    <tr>\n",
       "      <th>4</th>\n",
       "      <td>North Bend</td>\n",
       "      <td>US</td>\n",
       "      <td>1613335313</td>\n",
       "      <td>43.4065</td>\n",
       "      <td>-124.2243</td>\n",
       "      <td>50.00</td>\n",
       "      <td>81</td>\n",
       "      <td>6.91</td>\n",
       "      <td>90</td>\n",
       "    </tr>\n",
       "  </tbody>\n",
       "</table>\n",
       "</div>"
      ],
      "text/plain": [
       "         City Country        Date  Latitude  Longitude  Max Temp(f)  Humidity  \\\n",
       "0      Avarua      CK  1613335308  -21.2078  -159.7750        84.20        79   \n",
       "1        Jurm      AF  1613335309   36.8648    70.8342        33.76        70   \n",
       "2   Alyangula      AU  1613335310  -13.8483   136.4192        80.60        89   \n",
       "3    Necochea      AR  1613335311  -38.5473   -58.7368        69.01        89   \n",
       "4  North Bend      US  1613335313   43.4065  -124.2243        50.00        81   \n",
       "\n",
       "   Wind Speed  Cloudiness  \n",
       "0        4.61          20  \n",
       "1        5.55          31  \n",
       "2        4.61          98  \n",
       "3       11.99         100  \n",
       "4        6.91          90  "
      ]
     },
     "execution_count": 10,
     "metadata": {},
     "output_type": "execute_result"
    }
   ],
   "source": [
    "weather_df = pd.DataFrame({\n",
    "    #\"Location ID\":location_ids,\n",
    "    \"City\":location_name,\n",
    "    \"Country\":location_country,\n",
    "    \"Date\":date,\n",
    "    \"Latitude\":latitude,\n",
    "    \"Longitude\":longitude,\n",
    "    \"Max Temp(f)\":max_temperature,\n",
    "    \"Humidity\":humidity,\n",
    "    \"Wind Speed\":wind_speed,\n",
    "    \"Cloudiness\":cloudiness,\n",
    "})\n",
    "weather_df.to_csv(\"output_data/cities.csv\")\n",
    "weather_df.head()"
   ]
  },
  {
   "cell_type": "code",
   "execution_count": 21,
   "metadata": {},
   "outputs": [
    {
     "data": {
      "text/plain": [
       "Int64Index([], dtype='int64')"
      ]
     },
     "execution_count": 21,
     "metadata": {},
     "output_type": "execute_result"
    }
   ],
   "source": [
    "#  Get the indices of cities that have humidity over 100%.\n",
    "\n",
    "humidity_df = weather_df[weather_df[\"Humidity\"] > 100]\n",
    "\n",
    "humidity_df\n",
    "\n",
    "humidity_index = humidity_df.index\n",
    "humidity_index\n"
   ]
  },
  {
   "cell_type": "code",
   "execution_count": null,
   "metadata": {},
   "outputs": [],
   "source": [
    "# Make a new DataFrame equal to the city data to drop all humidity outliers by index.\n",
    "# Passing \"inplace=False\" will make a copy of the city_data DataFrame, which we call \"clean_city_data\".\n"
   ]
  },
  {
   "cell_type": "code",
   "execution_count": 22,
   "metadata": {},
   "outputs": [
    {
     "data": {
      "text/html": [
       "<div>\n",
       "<style scoped>\n",
       "    .dataframe tbody tr th:only-of-type {\n",
       "        vertical-align: middle;\n",
       "    }\n",
       "\n",
       "    .dataframe tbody tr th {\n",
       "        vertical-align: top;\n",
       "    }\n",
       "\n",
       "    .dataframe thead th {\n",
       "        text-align: right;\n",
       "    }\n",
       "</style>\n",
       "<table border=\"1\" class=\"dataframe\">\n",
       "  <thead>\n",
       "    <tr style=\"text-align: right;\">\n",
       "      <th></th>\n",
       "      <th>City</th>\n",
       "      <th>Country</th>\n",
       "      <th>Date</th>\n",
       "      <th>Latitude</th>\n",
       "      <th>Longitude</th>\n",
       "      <th>Max Temp(f)</th>\n",
       "      <th>Humidity</th>\n",
       "      <th>Wind Speed</th>\n",
       "      <th>Cloudiness</th>\n",
       "    </tr>\n",
       "  </thead>\n",
       "  <tbody>\n",
       "    <tr>\n",
       "      <th>0</th>\n",
       "      <td>Avarua</td>\n",
       "      <td>CK</td>\n",
       "      <td>1613335308</td>\n",
       "      <td>-21.2078</td>\n",
       "      <td>-159.7750</td>\n",
       "      <td>84.20</td>\n",
       "      <td>79</td>\n",
       "      <td>4.61</td>\n",
       "      <td>20</td>\n",
       "    </tr>\n",
       "    <tr>\n",
       "      <th>1</th>\n",
       "      <td>Jurm</td>\n",
       "      <td>AF</td>\n",
       "      <td>1613335309</td>\n",
       "      <td>36.8648</td>\n",
       "      <td>70.8342</td>\n",
       "      <td>33.76</td>\n",
       "      <td>70</td>\n",
       "      <td>5.55</td>\n",
       "      <td>31</td>\n",
       "    </tr>\n",
       "    <tr>\n",
       "      <th>2</th>\n",
       "      <td>Alyangula</td>\n",
       "      <td>AU</td>\n",
       "      <td>1613335310</td>\n",
       "      <td>-13.8483</td>\n",
       "      <td>136.4192</td>\n",
       "      <td>80.60</td>\n",
       "      <td>89</td>\n",
       "      <td>4.61</td>\n",
       "      <td>98</td>\n",
       "    </tr>\n",
       "    <tr>\n",
       "      <th>3</th>\n",
       "      <td>Necochea</td>\n",
       "      <td>AR</td>\n",
       "      <td>1613335311</td>\n",
       "      <td>-38.5473</td>\n",
       "      <td>-58.7368</td>\n",
       "      <td>69.01</td>\n",
       "      <td>89</td>\n",
       "      <td>11.99</td>\n",
       "      <td>100</td>\n",
       "    </tr>\n",
       "    <tr>\n",
       "      <th>4</th>\n",
       "      <td>North Bend</td>\n",
       "      <td>US</td>\n",
       "      <td>1613335313</td>\n",
       "      <td>43.4065</td>\n",
       "      <td>-124.2243</td>\n",
       "      <td>50.00</td>\n",
       "      <td>81</td>\n",
       "      <td>6.91</td>\n",
       "      <td>90</td>\n",
       "    </tr>\n",
       "    <tr>\n",
       "      <th>...</th>\n",
       "      <td>...</td>\n",
       "      <td>...</td>\n",
       "      <td>...</td>\n",
       "      <td>...</td>\n",
       "      <td>...</td>\n",
       "      <td>...</td>\n",
       "      <td>...</td>\n",
       "      <td>...</td>\n",
       "      <td>...</td>\n",
       "    </tr>\n",
       "    <tr>\n",
       "      <th>554</th>\n",
       "      <td>Sabzawār</td>\n",
       "      <td>IR</td>\n",
       "      <td>1613335922</td>\n",
       "      <td>36.2126</td>\n",
       "      <td>57.6819</td>\n",
       "      <td>50.65</td>\n",
       "      <td>45</td>\n",
       "      <td>6.87</td>\n",
       "      <td>0</td>\n",
       "    </tr>\n",
       "    <tr>\n",
       "      <th>555</th>\n",
       "      <td>São José da Coroa Grande</td>\n",
       "      <td>BR</td>\n",
       "      <td>1613335893</td>\n",
       "      <td>-8.8978</td>\n",
       "      <td>-35.1478</td>\n",
       "      <td>79.25</td>\n",
       "      <td>81</td>\n",
       "      <td>10.56</td>\n",
       "      <td>46</td>\n",
       "    </tr>\n",
       "    <tr>\n",
       "      <th>556</th>\n",
       "      <td>Turki</td>\n",
       "      <td>RU</td>\n",
       "      <td>1613336017</td>\n",
       "      <td>51.9870</td>\n",
       "      <td>43.2731</td>\n",
       "      <td>-3.91</td>\n",
       "      <td>92</td>\n",
       "      <td>8.72</td>\n",
       "      <td>54</td>\n",
       "    </tr>\n",
       "    <tr>\n",
       "      <th>557</th>\n",
       "      <td>Pisco</td>\n",
       "      <td>PE</td>\n",
       "      <td>1613336018</td>\n",
       "      <td>-13.7000</td>\n",
       "      <td>-76.2167</td>\n",
       "      <td>80.60</td>\n",
       "      <td>57</td>\n",
       "      <td>17.27</td>\n",
       "      <td>0</td>\n",
       "    </tr>\n",
       "    <tr>\n",
       "      <th>558</th>\n",
       "      <td>Haines Junction</td>\n",
       "      <td>CA</td>\n",
       "      <td>1613336020</td>\n",
       "      <td>60.7522</td>\n",
       "      <td>-137.5108</td>\n",
       "      <td>-14.80</td>\n",
       "      <td>53</td>\n",
       "      <td>2.30</td>\n",
       "      <td>56</td>\n",
       "    </tr>\n",
       "  </tbody>\n",
       "</table>\n",
       "<p>550 rows × 9 columns</p>\n",
       "</div>"
      ],
      "text/plain": [
       "                         City Country        Date  Latitude  Longitude  \\\n",
       "0                      Avarua      CK  1613335308  -21.2078  -159.7750   \n",
       "1                        Jurm      AF  1613335309   36.8648    70.8342   \n",
       "2                   Alyangula      AU  1613335310  -13.8483   136.4192   \n",
       "3                    Necochea      AR  1613335311  -38.5473   -58.7368   \n",
       "4                  North Bend      US  1613335313   43.4065  -124.2243   \n",
       "..                        ...     ...         ...       ...        ...   \n",
       "554                  Sabzawār      IR  1613335922   36.2126    57.6819   \n",
       "555  São José da Coroa Grande      BR  1613335893   -8.8978   -35.1478   \n",
       "556                     Turki      RU  1613336017   51.9870    43.2731   \n",
       "557                     Pisco      PE  1613336018  -13.7000   -76.2167   \n",
       "558           Haines Junction      CA  1613336020   60.7522  -137.5108   \n",
       "\n",
       "     Max Temp(f)  Humidity  Wind Speed  Cloudiness  \n",
       "0          84.20        79        4.61          20  \n",
       "1          33.76        70        5.55          31  \n",
       "2          80.60        89        4.61          98  \n",
       "3          69.01        89       11.99         100  \n",
       "4          50.00        81        6.91          90  \n",
       "..           ...       ...         ...         ...  \n",
       "554        50.65        45        6.87           0  \n",
       "555        79.25        81       10.56          46  \n",
       "556        -3.91        92        8.72          54  \n",
       "557        80.60        57       17.27           0  \n",
       "558       -14.80        53        2.30          56  \n",
       "\n",
       "[550 rows x 9 columns]"
      ]
     },
     "execution_count": 22,
     "metadata": {},
     "output_type": "execute_result"
    }
   ],
   "source": [
    "cleaned_data_df = weather_df[weather_df[\"Humidity\"] < 100]\n",
    "cleaned_data_df\n"
   ]
  },
  {
   "cell_type": "markdown",
   "metadata": {},
   "source": [
    "## Plotting the Data\n",
    "* Use proper labeling of the plots using plot titles (including date of analysis) and axes labels.\n",
    "* Save the plotted figures as .pngs."
   ]
  },
  {
   "cell_type": "markdown",
   "metadata": {},
   "source": [
    "## Latitude vs. Temperature Plot"
   ]
  },
  {
   "cell_type": "code",
   "execution_count": null,
   "metadata": {},
   "outputs": [],
   "source": [
    "plt.scatter(weather_df[\"Latitude\"], weather_df[\"Max Temp(f)\"], edgecolors=\"black\")\n",
    "plt.grid(color=\"grey\")\n",
    "plt.title(\"City Latitude vs. Max Temperature (April 3, 2020)\")\n",
    "plt.xlabel(\"Latitude\")\n",
    "plt.ylabel(\"Temperature (f)\")"
   ]
  },
  {
   "cell_type": "code",
   "execution_count": 27,
   "metadata": {
    "scrolled": true
   },
   "outputs": [
    {
     "data": {
      "image/png": "[encoded data removed]",
      "text/plain": [
       "<Figure size 432x288 with 1 Axes>"
      ]
     },
     "metadata": {
      "needs_background": "light"
     },
     "output_type": "display_data"
    }
   ],
   "source": [
    "plt.show()"
   ]
  },
  {
   "cell_type": "markdown",
   "metadata": {},
   "source": [
    "The plot shows change in latitude and how correlates to the temperature value recorded.\n",
    "The data shows that as the latitude towards zero the temperature gets higher.and as latitude goes towards pozative the temprature decrease."
   ]
  },
  {
   "cell_type": "markdown",
   "metadata": {},
   "source": [
    "## Latitude vs. Humidity Plot"
   ]
  },
  {
   "cell_type": "code",
   "execution_count": 25,
   "metadata": {},
   "outputs": [
    {
     "data": {
      "image/png": "[encoded data removed]",
      "text/plain": [
       "<Figure size 432x288 with 1 Axes>"
      ]
     },
     "metadata": {
      "needs_background": "light"
     },
     "output_type": "display_data"
    }
   ],
   "source": [
    "plt.scatter(weather_df[\"Latitude\"], weather_df[\"Humidity\"], edgecolors=\"black\")\n",
    "plt.grid(color=\"grey\")\n",
    "plt.title(\"City Latitude vs Humidity (April 3, 2020)\")\n",
    "plt.xlabel(\"Latitude\")\n",
    "plt.ylabel(\"Humidity (%)\")\n",
    "plt.show()\n"
   ]
  },
  {
   "cell_type": "markdown",
   "metadata": {},
   "source": [
    "This plot shows, the humidity intense in both lower latitude and higher latitude equally. And there is some humidity \n",
    "\n",
    "both in negative and pozative latitude."
   ]
  },
  {
   "cell_type": "markdown",
   "metadata": {},
   "source": [
    "## Latitude vs. Cloudiness Plot"
   ]
  },
  {
   "cell_type": "code",
   "execution_count": 28,
   "metadata": {},
   "outputs": [
    {
     "data": {
      "image/png": "[encoded data removed]",
      "text/plain": [
       "<Figure size 432x288 with 1 Axes>"
      ]
     },
     "metadata": {
      "needs_background": "light"
     },
     "output_type": "display_data"
    }
   ],
   "source": [
    "plt.scatter(weather_df[\"Latitude\"], weather_df[\"Cloudiness\"], edgecolors=\"black\")\n",
    "plt.grid(color=\"grey\")\n",
    "plt.title(\"City Latitude vs. Cloudiness (April 3, 2020)\")\n",
    "plt.xlabel(\"Latitude\")\n",
    "plt.ylabel(\"Cloudiness\")\n",
    "plt.show()"
   ]
  },
  {
   "cell_type": "markdown",
   "metadata": {},
   "source": [
    "This data shows, there are  data is dispersed in all all of latitude."
   ]
  },
  {
   "cell_type": "markdown",
   "metadata": {},
   "source": [
    "## Latitude vs. Wind Speed Plot"
   ]
  },
  {
   "cell_type": "code",
   "execution_count": 29,
   "metadata": {},
   "outputs": [
    {
     "data": {
      "image/png": "[encoded data removed]",
      "text/plain": [
       "<Figure size 432x288 with 1 Axes>"
      ]
     },
     "metadata": {
      "needs_background": "light"
     },
     "output_type": "display_data"
    }
   ],
   "source": [
    "plt.scatter(weather_df[\"Latitude\"], weather_df[\"Wind Speed\"], edgecolors=\"black\")\n",
    "plt.grid(color=\"grey\")\n",
    "plt.title(\"City Latitude vs. Wind Speed (April 3, 2020)\")\n",
    "plt.xlabel(\"Latitude\")\n",
    "plt.ylabel(\"Wind Speed (mph)\")\n",
    "\n",
    "plt.show()"
   ]
  },
  {
   "cell_type": "markdown",
   "metadata": {},
   "source": [
    "This plot shows, the wind speed is intense towards zero in both negative and pozative latitude."
   ]
  },
  {
   "cell_type": "markdown",
   "metadata": {},
   "source": [
    "## Linear Regression"
   ]
  },
  {
   "cell_type": "code",
   "execution_count": 30,
   "metadata": {},
   "outputs": [],
   "source": [
    "def linear_regression(x, y, xlabel, ylabel, title):\n",
    "    slope, intercept, r_value, p_value, std_err = sp.linregress(x,y)\n",
    "    line = slope*x+intercept\n",
    "    plt.scatter(x, y)\n",
    "    plt.xlabel(xlabel)\n",
    "    plt.ylabel(ylabel)\n",
    "    plt.title(title)\n",
    "    plt.plot(x,line,\"-\", color='r',linewidth=3)\n",
    "    #plt.annotate(line,(x,y),fontsize=15,color=\"red\")\n",
    "    \n",
    "    if slope < 0:\n",
    "        print(f\"R-Squared Value: -{r_value**2}\")\n",
    "    else:\n",
    "        print(f\"R-Squared Value: {r_value**2}\")\n",
    "        "
   ]
  },
  {
   "cell_type": "markdown",
   "metadata": {},
   "source": [
    "\n",
    "####  Northern Hemisphere - Max Temp vs. Latitude Linear Regression"
   ]
  },
  {
   "cell_type": "code",
   "execution_count": 31,
   "metadata": {},
   "outputs": [],
   "source": [
    "northern = weather_df[weather_df['Latitude']>0]\n",
    "southern = weather_df[weather_df['Latitude']<0]\n"
   ]
  },
  {
   "cell_type": "code",
   "execution_count": 33,
   "metadata": {},
   "outputs": [
    {
     "name": "stdout",
     "output_type": "stream",
     "text": [
      "The r-squared is: -0.8714227787822902\n"
     ]
    },
    {
     "data": {
      "image/png": "[encoded data removed]",
      "text/plain": [
       "<Figure size 432x288 with 1 Axes>"
      ]
     },
     "metadata": {
      "needs_background": "light"
     },
     "output_type": "display_data"
    }
   ],
   "source": [
    "\n",
    "\n",
    "\n",
    "x_values=northern['Latitude']\n",
    "\n",
    "y_values = northern['Max Temp(f)']\n",
    "\n",
    "\n",
    "x_values=northern['Latitude']\n",
    "\n",
    "y_values = northern['Max Temp(f)']\n",
    "\n",
    "\n",
    "(slope, intercept, rvalue, pvalue, stderr) = linregress(x_values, y_values)\n",
    "regress_values = x_values * slope + intercept\n",
    "line_eq = \"y = \" + str(round(slope,2)) + \"x + \" + str(round(intercept,2))\n",
    "plt.scatter(x_values,y_values)\n",
    "plt.plot(x_values,regress_values,\"r-\")\n",
    "plt.annotate(line_eq,(0,50),fontsize=15,color=\"red\")\n",
    "plt.xlabel('Latitude')\n",
    "plt.ylabel('Max Temp')\n",
    "print(f\"The r-squared is: {rvalue}\")\n",
    "\n",
    "\n",
    "plt.savefig('output_data/NH_MTL.png')\n",
    "plt.show()\n"
   ]
  },
  {
   "cell_type": "markdown",
   "metadata": {},
   "source": [
    "The regression line shows as the temperature drops when the latitude is away from zero . "
   ]
  },
  {
   "cell_type": "markdown",
   "metadata": {},
   "source": [
    "####  Southern Hemisphere - Max Temp vs. Latitude Linear Regression"
   ]
  },
  {
   "cell_type": "code",
   "execution_count": 34,
   "metadata": {},
   "outputs": [
    {
     "name": "stdout",
     "output_type": "stream",
     "text": [
      "The r-squared is: 0.2093589370818777\n"
     ]
    },
    {
     "data": {
      "image/png": "[encoded data removed]",
      "text/plain": [
       "<Figure size 432x288 with 1 Axes>"
      ]
     },
     "metadata": {
      "needs_background": "light"
     },
     "output_type": "display_data"
    },
    {
     "data": {
      "text/plain": [
       "<Figure size 432x288 with 0 Axes>"
      ]
     },
     "metadata": {},
     "output_type": "display_data"
    }
   ],
   "source": [
    "x_values =southern['Latitude']\n",
    "\n",
    "y_values = southern['Humidity']\n",
    "# plt.scatter(x_values,y_values)\n",
    "# plt.xlabel('Rooms in House')\n",
    "# plt.ylabel('Median House Prices ($1000)')\n",
    "# plt.show()\n",
    "(slope, intercept, rvalue, pvalue, stderr) = linregress(x_values, y_values)\n",
    "regress_values = x_values * slope + intercept\n",
    "line_eq = \"y = \" + str(round(slope,2)) + \"x + \" + str(round(intercept,2))\n",
    "plt.scatter(x_values,y_values)\n",
    "plt.plot(x_values,regress_values,\"r-\")\n",
    "plt.annotate(line_eq,(0,50),fontsize=15,color=\"red\")\n",
    "plt.xlabel('Latitude')\n",
    "plt.ylabel('Max Temp')\n",
    "print(f\"The r-squared is: {rvalue}\")\n",
    "plt.show()\n",
    "plt.savefig('output_data/SH_MTL.png')"
   ]
  },
  {
   "cell_type": "markdown",
   "metadata": {},
   "source": [
    "The regression line above shows as the temperature drops when the latitude is away from zero . "
   ]
  },
  {
   "cell_type": "markdown",
   "metadata": {},
   "source": [
    "####  Northern Hemisphere - Humidity (%) vs. Latitude Linear Regression"
   ]
  },
  {
   "cell_type": "code",
   "execution_count": 35,
   "metadata": {},
   "outputs": [
    {
     "name": "stdout",
     "output_type": "stream",
     "text": [
      "The r-squared is: 0.3096257484897916\n"
     ]
    },
    {
     "data": {
      "image/png": "[encoded data removed]",
      "text/plain": [
       "<Figure size 432x288 with 1 Axes>"
      ]
     },
     "metadata": {
      "needs_background": "light"
     },
     "output_type": "display_data"
    },
    {
     "data": {
      "text/plain": [
       "<Figure size 432x288 with 0 Axes>"
      ]
     },
     "metadata": {},
     "output_type": "display_data"
    }
   ],
   "source": [
    "x_values =northern['Latitude']\n",
    "\n",
    "y_values = northern['Humidity']\n",
    "\n",
    "\n",
    "(slope, intercept, rvalue, pvalue, stderr) = linregress(x_values, y_values)\n",
    "regress_values = x_values * slope + intercept\n",
    "line_eq = \"y = \" + str(round(slope,2)) + \"x + \" + str(round(intercept,2))\n",
    "plt.scatter(x_values,y_values)\n",
    "plt.plot(x_values,regress_values,\"r-\")\n",
    "plt.annotate(line_eq,(0,50),fontsize=15,color=\"red\")\n",
    "plt.xlabel('Latitude')\n",
    "plt.ylabel('Humidity')\n",
    "print(f\"The r-squared is: {rvalue}\")\n",
    "plt.show()\n",
    "plt.savefig('output_data/NHHL.png')"
   ]
  },
  {
   "cell_type": "markdown",
   "metadata": {},
   "source": [
    "the above linear regreasion show as the humidity is intense between 0 to 80 latitude."
   ]
  },
  {
   "cell_type": "markdown",
   "metadata": {},
   "source": [
    "####  Southern Hemisphere - Humidity (%) vs. Latitude Linear Regression"
   ]
  },
  {
   "cell_type": "code",
   "execution_count": 36,
   "metadata": {},
   "outputs": [
    {
     "name": "stdout",
     "output_type": "stream",
     "text": [
      "The r-squared is: 0.2093589370818777\n"
     ]
    },
    {
     "data": {
      "image/png": "[encoded data removed]",
      "text/plain": [
       "<Figure size 432x288 with 1 Axes>"
      ]
     },
     "metadata": {
      "needs_background": "light"
     },
     "output_type": "display_data"
    },
    {
     "data": {
      "text/plain": [
       "<Figure size 432x288 with 0 Axes>"
      ]
     },
     "metadata": {},
     "output_type": "display_data"
    }
   ],
   "source": [
    "x_values =southern['Latitude']\n",
    "\n",
    "y_values = southern['Humidity']\n",
    "\n",
    "(slope, intercept, rvalue, pvalue, stderr) = linregress(x_values, y_values)\n",
    "regress_values = x_values * slope + intercept\n",
    "line_eq = \"y = \" + str(round(slope,2)) + \"x + \" + str(round(intercept,2))\n",
    "plt.scatter(x_values,y_values)\n",
    "plt.plot(x_values,regress_values,\"r-\")\n",
    "plt.annotate(line_eq,(0,50),fontsize=15,color=\"red\")\n",
    "plt.xlabel('Latitude')\n",
    "plt.ylabel('Humidity')\n",
    "print(f\"The r-squared is: {rvalue}\")\n",
    "plt.show()\n",
    "plt.savefig('output_data/SHHL.png')"
   ]
  },
  {
   "cell_type": "markdown",
   "metadata": {},
   "source": [
    "the above linear regreasion show as the humidity is equally distributed in negative latitude."
   ]
  },
  {
   "cell_type": "markdown",
   "metadata": {},
   "source": [
    "####  Northern Hemisphere - cloudines (%) vs. Latitude Linear Regression"
   ]
  },
  {
   "cell_type": "code",
   "execution_count": 37,
   "metadata": {},
   "outputs": [
    {
     "name": "stdout",
     "output_type": "stream",
     "text": [
      "The r-squared is: 0.2714808551509449\n"
     ]
    },
    {
     "data": {
      "image/png": "[encoded data removed]",
      "text/plain": [
       "<Figure size 432x288 with 1 Axes>"
      ]
     },
     "metadata": {
      "needs_background": "light"
     },
     "output_type": "display_data"
    },
    {
     "data": {
      "text/plain": [
       "<Figure size 432x288 with 0 Axes>"
      ]
     },
     "metadata": {},
     "output_type": "display_data"
    }
   ],
   "source": [
    "x_values =northern['Latitude']\n",
    "\n",
    "y_values = northern['Cloudiness']\n",
    "# plt.scatter(x_values,y_values)\n",
    "# plt.xlabel('Rooms in House')\n",
    "# plt.ylabel('Median House Prices ($1000)')\n",
    "# plt.show()\n",
    "(slope, intercept, rvalue, pvalue, stderr) = linregress(x_values, y_values)\n",
    "regress_values = x_values * slope + intercept\n",
    "line_eq = \"y = \" + str(round(slope,2)) + \"x + \" + str(round(intercept,2))\n",
    "plt.scatter(x_values,y_values)\n",
    "plt.plot(x_values,regress_values,\"r-\")\n",
    "plt.annotate(line_eq,(0,50),fontsize=15,color=\"red\")\n",
    "plt.xlabel('Latitude')\n",
    "plt.ylabel('Cloudiness')\n",
    "print(f\"The r-squared is: {rvalue}\")\n",
    "plt.show()\n",
    "plt.savefig('output_data/NHCL.png')"
   ]
  },
  {
   "cell_type": "markdown",
   "metadata": {},
   "source": [
    "the above linear regreasion show as the cloudiness is intense between 0 to 80 latitude."
   ]
  },
  {
   "cell_type": "markdown",
   "metadata": {},
   "source": [
    "####  Southern Hemisphere - Cloudiness (%) vs. Latitude Linear Regression"
   ]
  },
  {
   "cell_type": "code",
   "execution_count": 38,
   "metadata": {},
   "outputs": [
    {
     "name": "stdout",
     "output_type": "stream",
     "text": [
      "The r-squared is: 0.03533226626317654\n"
     ]
    },
    {
     "data": {
      "image/png": "[encoded data removed]",
      "text/plain": [
       "<Figure size 432x288 with 1 Axes>"
      ]
     },
     "metadata": {
      "needs_background": "light"
     },
     "output_type": "display_data"
    },
    {
     "data": {
      "text/plain": [
       "<Figure size 432x288 with 0 Axes>"
      ]
     },
     "metadata": {},
     "output_type": "display_data"
    }
   ],
   "source": [
    "x_values =southern['Latitude']\n",
    "\n",
    "y_values = southern['Cloudiness']\n",
    "# plt.scatter(x_values,y_values)\n",
    "# plt.xlabel('Rooms in House')\n",
    "# plt.ylabel('Median House Prices ($1000)')\n",
    "# plt.show()\n",
    "(slope, intercept, rvalue, pvalue, stderr) = linregress(x_values, y_values)\n",
    "regress_values = x_values * slope + intercept\n",
    "line_eq = \"y = \" + str(round(slope,2)) + \"x + \" + str(round(intercept,2))\n",
    "plt.scatter(x_values,y_values)\n",
    "plt.plot(x_values,regress_values,\"r-\")\n",
    "plt.annotate(line_eq,(0,50),fontsize=15,color=\"red\")\n",
    "plt.xlabel('Latitude')\n",
    "plt.ylabel('Cloudiness')\n",
    "print(f\"The r-squared is: {rvalue}\")\n",
    "plt.show()\n",
    "plt.savefig('output_data/SHCL.png')"
   ]
  },
  {
   "cell_type": "markdown",
   "metadata": {},
   "source": [
    "the above linear regreasion show as, the cloudiness dispersed in negative latitude."
   ]
  },
  {
   "cell_type": "markdown",
   "metadata": {},
   "source": [
    "####  Northern Hemisphere - Wind Speed (mph) vs. Latitude Linear Regression"
   ]
  },
  {
   "cell_type": "code",
   "execution_count": 39,
   "metadata": {},
   "outputs": [
    {
     "name": "stdout",
     "output_type": "stream",
     "text": [
      "The r-squared is: 0.0037131237599113873\n"
     ]
    },
    {
     "data": {
      "image/png": "[encoded data removed]",
      "text/plain": [
       "<Figure size 432x288 with 1 Axes>"
      ]
     },
     "metadata": {
      "needs_background": "light"
     },
     "output_type": "display_data"
    },
    {
     "data": {
      "text/plain": [
       "<Figure size 432x288 with 0 Axes>"
      ]
     },
     "metadata": {},
     "output_type": "display_data"
    }
   ],
   "source": [
    "x_values = northern['Latitude']\n",
    "\n",
    "y_values = northern['Wind Speed']\n",
    "# plt.scatter(x_values,y_values)\n",
    "# plt.xlabel('Rooms in House')\n",
    "# plt.ylabel('Median House Prices ($1000)')\n",
    "# plt.show()\n",
    "(slope, intercept, rvalue, pvalue, stderr) = linregress(x_values, y_values)\n",
    "regress_values = x_values * slope + intercept\n",
    "line_eq = \"y = \" + str(round(slope,2)) + \"x + \" + str(round(intercept,2))\n",
    "plt.scatter(x_values,y_values)\n",
    "plt.plot(x_values,regress_values,\"r-\")\n",
    "plt.annotate(line_eq,(0,8),fontsize=15,color=\"red\")\n",
    "plt.xlabel('Wind speed')\n",
    "plt.ylabel('Max Temp')\n",
    "print(f\"The r-squared is: {rvalue}\")\n",
    "plt.show()\n",
    "plt.savefig('output_data/NHWSL.png')"
   ]
  },
  {
   "cell_type": "markdown",
   "metadata": {},
   "source": [
    "the above linear regreasion show as, there are intensified max temp below 15 beto 80 latitude."
   ]
  },
  {
   "cell_type": "markdown",
   "metadata": {},
   "source": [
    "####  Southern Hemisphere - Wind Speed (mph) vs. Latitude Linear Regression"
   ]
  },
  {
   "cell_type": "code",
   "execution_count": 41,
   "metadata": {},
   "outputs": [
    {
     "name": "stdout",
     "output_type": "stream",
     "text": [
      "The r-squared is: -0.23021743364307154\n"
     ]
    },
    {
     "data": {
      "image/png": "[encoded data removed]",
      "text/plain": [
       "<Figure size 432x288 with 1 Axes>"
      ]
     },
     "metadata": {
      "needs_background": "light"
     },
     "output_type": "display_data"
    },
    {
     "data": {
      "text/plain": [
       "<Figure size 432x288 with 0 Axes>"
      ]
     },
     "metadata": {},
     "output_type": "display_data"
    }
   ],
   "source": [
    "x_values = southern['Latitude']\n",
    "\n",
    "y_values = southern['Wind Speed']\n",
    "\n",
    "(slope, intercept, rvalue, pvalue, stderr) = linregress(x_values, y_values)\n",
    "regress_values = x_values * slope + intercept\n",
    "line_eq = \"y = \" + str(round(slope,2)) + \"x + \" + str(round(intercept,2))\n",
    "plt.scatter(x_values,y_values)\n",
    "plt.plot(x_values,regress_values,\"r-\")\n",
    "plt.annotate(line_eq,(0,5),fontsize=15,color=\"red\")\n",
    "plt.xlabel('Wind speed')\n",
    "plt.ylabel('Max Temp')\n",
    "print(f\"The r-squared is: {rvalue}\")\n",
    "plt.show()\n",
    "plt.savefig('output_data/SHWSL.png')"
   ]
  },
  {
   "cell_type": "code",
   "execution_count": null,
   "metadata": {},
   "outputs": [],
   "source": []
  }
 ],
 "metadata": {
  "anaconda-cloud": {},
  "kernel_info": {
   "name": "python3"
  },
  "kernelspec": {
   "display_name": "Python 3",
   "language": "python",
   "name": "python3"
  },
  "language_info": {
   "codemirror_mode": {
    "name": "ipython",
    "version": 3
   },
   "file_extension": ".py",
   "mimetype": "text/x-python",
   "name": "python",
   "nbconvert_exporter": "python",
   "pygments_lexer": "ipython3",
   "version": "3.6.10"
  },
  "latex_envs": {
   "LaTeX_envs_menu_present": true,
   "autoclose": false,
   "autocomplete": true,
   "bibliofile": "biblio.bib",
   "cite_by": "apalike",
   "current_citInitial": 1,
   "eqLabelWithNumbers": true,
   "eqNumInitial": 1,
   "hotkeys": {
    "equation": "Ctrl-E",
    "itemize": "Ctrl-I"
   },
   "labels_anchors": false,
   "latex_user_defs": false,
   "report_style_numbering": false,
   "user_envs_cfg": false
  },
  "nteract": {
   "version": "0.12.3"
  }
 },
 "nbformat": 4,
 "nbformat_minor": 2
}
