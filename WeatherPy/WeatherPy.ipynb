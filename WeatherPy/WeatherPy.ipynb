{
 "cells": [
  {
   "cell_type": "markdown",
   "metadata": {},
   "source": [
    "# WeatherPy\n",
    "----\n",
    "\n",
    "#### Note\n",
    "* Instructions have been included for each segment. You do not have to follow them exactly, but they are included to help you think through the steps."
   ]
  },
  {
   "cell_type": "code",
   "execution_count": 1,
   "metadata": {},
   "outputs": [],
   "source": [
    "# Dependencies and Setup\n",
    "import matplotlib.pyplot as plt\n",
    "import pandas as pd\n",
    "import numpy as np\n",
    "import requests\n",
    "import scipy as sp\n",
    "from scipy.stats import linregress\n",
    "\n",
    "\n",
    "import time\n",
    "\n",
    "\n",
    "from scipy.stats import linregress\n",
    "\n",
    "# Import API key\n",
    "#from api_keys import weather_api_key\n",
    "from api_keys import weather_api_key\n",
    "from api_keys import  g_key\n",
    "#from weather_api import weather_api as api\n",
    "\n",
    "\n",
    "\n",
    "# Incorporated citipy to determine city based on latitude and longitude\n",
    "from citipy import citipy\n"
   ]
  },
  {
   "cell_type": "code",
   "execution_count": 2,
   "metadata": {},
   "outputs": [],
   "source": [
    "# Output File (CSV)\n",
    "output_data_file = \"output_data/cities.csv\""
   ]
  },
  {
   "cell_type": "code",
   "execution_count": 3,
   "metadata": {},
   "outputs": [
    {
     "data": {
      "text/html": [
       "<div>\n",
       "<style scoped>\n",
       "    .dataframe tbody tr th:only-of-type {\n",
       "        vertical-align: middle;\n",
       "    }\n",
       "\n",
       "    .dataframe tbody tr th {\n",
       "        vertical-align: top;\n",
       "    }\n",
       "\n",
       "    .dataframe thead th {\n",
       "        text-align: right;\n",
       "    }\n",
       "</style>\n",
       "<table border=\"1\" class=\"dataframe\">\n",
       "  <thead>\n",
       "    <tr style=\"text-align: right;\">\n",
       "      <th></th>\n",
       "      <th>Unnamed: 0</th>\n",
       "      <th>City</th>\n",
       "      <th>Country</th>\n",
       "      <th>Date</th>\n",
       "      <th>Latitude</th>\n",
       "      <th>Longitude</th>\n",
       "      <th>Max Temp(f)</th>\n",
       "      <th>Humidity</th>\n",
       "      <th>Wind Speed</th>\n",
       "      <th>Cloudiness</th>\n",
       "    </tr>\n",
       "  </thead>\n",
       "  <tbody>\n",
       "    <tr>\n",
       "      <th>0</th>\n",
       "      <td>0</td>\n",
       "      <td>Santa Rosalía</td>\n",
       "      <td>MX</td>\n",
       "      <td>1613332330</td>\n",
       "      <td>27.3167</td>\n",
       "      <td>-112.2833</td>\n",
       "      <td>65.08</td>\n",
       "      <td>43</td>\n",
       "      <td>4.54</td>\n",
       "      <td>66</td>\n",
       "    </tr>\n",
       "    <tr>\n",
       "      <th>1</th>\n",
       "      <td>1</td>\n",
       "      <td>Busselton</td>\n",
       "      <td>AU</td>\n",
       "      <td>1613331929</td>\n",
       "      <td>-33.6500</td>\n",
       "      <td>115.3333</td>\n",
       "      <td>69.01</td>\n",
       "      <td>92</td>\n",
       "      <td>6.80</td>\n",
       "      <td>17</td>\n",
       "    </tr>\n",
       "    <tr>\n",
       "      <th>2</th>\n",
       "      <td>2</td>\n",
       "      <td>New Norfolk</td>\n",
       "      <td>AU</td>\n",
       "      <td>1613331956</td>\n",
       "      <td>-42.7826</td>\n",
       "      <td>147.0587</td>\n",
       "      <td>57.99</td>\n",
       "      <td>71</td>\n",
       "      <td>1.59</td>\n",
       "      <td>100</td>\n",
       "    </tr>\n",
       "    <tr>\n",
       "      <th>3</th>\n",
       "      <td>3</td>\n",
       "      <td>Albany</td>\n",
       "      <td>US</td>\n",
       "      <td>1613331945</td>\n",
       "      <td>42.6001</td>\n",
       "      <td>-73.9662</td>\n",
       "      <td>33.01</td>\n",
       "      <td>56</td>\n",
       "      <td>3.00</td>\n",
       "      <td>95</td>\n",
       "    </tr>\n",
       "    <tr>\n",
       "      <th>4</th>\n",
       "      <td>4</td>\n",
       "      <td>Hong Kong</td>\n",
       "      <td>HK</td>\n",
       "      <td>1613331974</td>\n",
       "      <td>22.2855</td>\n",
       "      <td>114.1577</td>\n",
       "      <td>66.00</td>\n",
       "      <td>75</td>\n",
       "      <td>6.22</td>\n",
       "      <td>0</td>\n",
       "    </tr>\n",
       "  </tbody>\n",
       "</table>\n",
       "</div>"
      ],
      "text/plain": [
       "   Unnamed: 0           City Country        Date  Latitude  Longitude  \\\n",
       "0           0  Santa Rosalía      MX  1613332330   27.3167  -112.2833   \n",
       "1           1      Busselton      AU  1613331929  -33.6500   115.3333   \n",
       "2           2    New Norfolk      AU  1613331956  -42.7826   147.0587   \n",
       "3           3         Albany      US  1613331945   42.6001   -73.9662   \n",
       "4           4      Hong Kong      HK  1613331974   22.2855   114.1577   \n",
       "\n",
       "   Max Temp(f)  Humidity  Wind Speed  Cloudiness  \n",
       "0        65.08        43        4.54          66  \n",
       "1        69.01        92        6.80          17  \n",
       "2        57.99        71        1.59         100  \n",
       "3        33.01        56        3.00          95  \n",
       "4        66.00        75        6.22           0  "
      ]
     },
     "execution_count": 3,
     "metadata": {},
     "output_type": "execute_result"
    }
   ],
   "source": [
    "#read the csv file and display\n",
    "weatherData=pd.read_csv(output_data_file)\n",
    "weatherData.head()"
   ]
  },
  {
   "cell_type": "code",
   "execution_count": 4,
   "metadata": {
    "scrolled": true
   },
   "outputs": [],
   "source": [
    "# Range of latitudes and longitudes\n",
    "lat_range = (-90, 90)\n",
    "lng_range = (-180, 180)"
   ]
  },
  {
   "cell_type": "markdown",
   "metadata": {},
   "source": [
    "## Generate Cities List"
   ]
  },
  {
   "cell_type": "code",
   "execution_count": 5,
   "metadata": {},
   "outputs": [],
   "source": [
    "# List for holding lat_lngs and cities\n",
    "lat_lngs = []\n",
    "cities = []"
   ]
  },
  {
   "cell_type": "code",
   "execution_count": 6,
   "metadata": {},
   "outputs": [
    {
     "data": {
      "text/plain": [
       "587"
      ]
     },
     "execution_count": 6,
     "metadata": {},
     "output_type": "execute_result"
    }
   ],
   "source": [
    "# Create a set of random lat and lng combinations\n",
    "lats = np.random.uniform(lat_range[0], lat_range[1], size=1500)\n",
    "lngs = np.random.uniform(lng_range[0], lng_range[1], size=1500)\n",
    "lat_lngs = zip(lats, lngs)\n",
    "\n",
    "# Identify nearest city for each lat, lng combination\n",
    "for lat_lng in lat_lngs:\n",
    "    city = citipy.nearest_city(lat_lng[0], lat_lng[1]).city_name\n",
    "    \n",
    "    # If the city is unique, then add it to a our cities list\n",
    "    if city not in cities:\n",
    "        cities.append(city)\n",
    "\n",
    "# Print the city count to confirm sufficient count\n",
    "len(cities)"
   ]
  },
  {
   "cell_type": "markdown",
   "metadata": {},
   "source": [
    "### Perform API Calls\n",
    "* Perform a weather check on each city using a series of successive API calls.\n",
    "* Include a print log of each city as it'sbeing processed (with the city number and city name).\n"
   ]
  },
  {
   "cell_type": "code",
   "execution_count": 7,
   "metadata": {},
   "outputs": [],
   "source": [
    "#Url\n",
    "\n",
    "url = \"http://api.openweathermap.org/data/2.5/weather?q=\"\n",
    "extension = \"&units=imperial&appid=\""
   ]
  },
  {
   "cell_type": "code",
   "execution_count": 8,
   "metadata": {
    "scrolled": true
   },
   "outputs": [
    {
     "name": "stdout",
     "output_type": "stream",
     "text": [
      "Beginning Data Retrieval\n",
      "-----------------------------\n",
      "Processing Record 0 of 587 | port alfred\n",
      "Processing Record 1 of 587 | hilo\n",
      "Processing Record 2 of 587 | yashkul\n",
      "Processing Record 3 of 587 | santiago de cao\n",
      "Processing Record 4 of 587 | hecun\n",
      "Processing Record 5 of 587 | souillac\n",
      "Processing Record 6 of 587 | punta arenas\n",
      "Processing Record 7 of 587 | stornoway\n",
      "City not found. Skipping...\n",
      "Processing Record 8 of 586 | saint george\n",
      "Processing Record 9 of 586 | torbay\n",
      "City not found. Skipping...\n",
      "Processing Record 10 of 585 | kavieng\n",
      "City not found. Skipping...\n",
      "Processing Record 11 of 584 | busselton\n",
      "Processing Record 12 of 584 | yar-sale\n",
      "City not found. Skipping...\n",
      "Processing Record 13 of 583 | komsomolskiy\n",
      "Processing Record 14 of 583 | east london\n",
      "Processing Record 15 of 583 | vaini\n",
      "Processing Record 16 of 583 | plastun\n",
      "Processing Record 17 of 583 | sulangan\n",
      "Processing Record 18 of 583 | butaritari\n",
      "City not found. Skipping...\n",
      "Processing Record 19 of 582 | saldanha\n",
      "Processing Record 20 of 582 | mikhaylovka\n",
      "Processing Record 21 of 582 | norman wells\n",
      "Processing Record 22 of 582 | arraial do cabo\n",
      "Processing Record 23 of 582 | nioro\n",
      "Processing Record 24 of 582 | rikitea\n",
      "Processing Record 25 of 582 | geraldton\n",
      "Processing Record 26 of 582 | leningradskiy\n",
      "Processing Record 27 of 582 | jacmel\n",
      "Processing Record 28 of 582 | nyurba\n",
      "Processing Record 29 of 582 | bengkulu\n",
      "Processing Record 30 of 582 | am timan\n",
      "Processing Record 31 of 582 | esperance\n",
      "Processing Record 32 of 582 | chuy\n",
      "Processing Record 33 of 582 | biak\n",
      "Processing Record 34 of 582 | cap malheureux\n",
      "Processing Record 35 of 582 | goderich\n",
      "Processing Record 36 of 582 | saskylakh\n",
      "Processing Record 37 of 582 | olafsvik\n",
      "Processing Record 38 of 582 | darhan\n",
      "City not found. Skipping...\n",
      "Processing Record 39 of 581 | samarai\n",
      "Processing Record 40 of 581 | ust-maya\n",
      "Processing Record 41 of 581 | yellowknife\n",
      "Processing Record 42 of 581 | sawtell\n",
      "City not found. Skipping...\n",
      "Processing Record 43 of 580 | mandalgovi\n",
      "Processing Record 44 of 580 | hirata\n",
      "City not found. Skipping...\n",
      "Processing Record 45 of 579 | hofn\n",
      "Processing Record 46 of 579 | new norfolk\n",
      "Processing Record 47 of 579 | carnarvon\n",
      "Processing Record 48 of 579 | sanok\n",
      "Processing Record 49 of 579 | mataura\n",
      "Processing Record 50 of 579 | chokurdakh\n",
      "Processing Record 51 of 579 | saint-philippe\n",
      "Processing Record 52 of 579 | chervone\n",
      "Processing Record 53 of 579 | ushuaia\n",
      "Processing Record 54 of 579 | barrow\n",
      "Processing Record 55 of 579 | cape town\n",
      "Processing Record 56 of 579 | georgetown\n",
      "Processing Record 57 of 579 | peterhead\n",
      "City not found. Skipping...\n",
      "Processing Record 58 of 578 | tuktoyaktuk\n",
      "Processing Record 59 of 578 | fortuna\n",
      "Processing Record 60 of 578 | avarua\n",
      "Processing Record 61 of 578 | beringovskiy\n",
      "Processing Record 62 of 578 | victoria\n",
      "City not found. Skipping...\n",
      "Processing Record 63 of 577 | lithakia\n",
      "City not found. Skipping...\n",
      "Processing Record 64 of 576 | haines junction\n",
      "Processing Record 65 of 576 | gwanda\n",
      "Processing Record 66 of 576 | mocuba\n",
      "Processing Record 67 of 576 | kamaishi\n",
      "City not found. Skipping...\n",
      "Processing Record 68 of 575 | lebu\n",
      "Processing Record 69 of 575 | quatre cocos\n",
      "Processing Record 70 of 575 | lagoa\n",
      "Processing Record 71 of 575 | smithers\n",
      "City not found. Skipping...\n",
      "Processing Record 72 of 574 | green river\n",
      "Processing Record 73 of 574 | severo-kurilsk\n",
      "Processing Record 74 of 574 | hobyo\n",
      "Processing Record 75 of 574 | provideniya\n",
      "Processing Record 76 of 574 | bluff\n",
      "Processing Record 77 of 574 | ponta do sol\n",
      "Processing Record 78 of 574 | salalah\n",
      "City not found. Skipping...\n",
      "Processing Record 79 of 573 | qaanaaq\n",
      "Processing Record 80 of 573 | kluang\n",
      "Processing Record 81 of 573 | ayan\n",
      "Processing Record 82 of 573 | iqaluit\n",
      "City not found. Skipping...\n",
      "Processing Record 83 of 572 | junin\n",
      "Processing Record 84 of 572 | ambilobe\n",
      "Processing Record 85 of 572 | ancud\n",
      "Processing Record 86 of 572 | zhoucheng\n",
      "City not found. Skipping...\n",
      "Processing Record 87 of 571 | jamestown\n",
      "Processing Record 88 of 571 | fairmount\n",
      "Processing Record 89 of 571 | kapaa\n",
      "Processing Record 90 of 571 | kandalaksha\n",
      "Processing Record 91 of 571 | walvis bay\n",
      "Processing Record 92 of 571 | pilkhuwa\n",
      "Processing Record 93 of 571 | nikolskoye\n",
      "Processing Record 94 of 571 | skagen\n",
      "Processing Record 95 of 571 | marzuq\n",
      "Processing Record 96 of 571 | sao joao da barra\n",
      "Processing Record 97 of 571 | elko\n",
      "Processing Record 98 of 571 | nanortalik\n",
      "Processing Record 99 of 571 | dikson\n",
      "Processing Record 100 of 571 | guerrero negro\n",
      "Processing Record 101 of 571 | khatanga\n",
      "Processing Record 102 of 571 | ndele\n",
      "City not found. Skipping...\n",
      "Processing Record 103 of 570 | marsabit\n",
      "Processing Record 104 of 570 | bredasdorp\n",
      "Processing Record 105 of 570 | serebryansk\n",
      "Processing Record 106 of 570 | mar del plata\n",
      "Processing Record 107 of 570 | albany\n",
      "Processing Record 108 of 570 | port blair\n",
      "Processing Record 109 of 570 | coquimbo\n",
      "Processing Record 110 of 570 | hope\n",
      "Processing Record 111 of 570 | tasiilaq\n",
      "Processing Record 112 of 570 | hithadhoo\n",
      "Processing Record 113 of 570 | mizan teferi\n",
      "City not found. Skipping...\n",
      "Processing Record 114 of 569 | kodiak\n",
      "Processing Record 115 of 569 | bambous virieux\n",
      "Processing Record 116 of 569 | cayenne\n",
      "Processing Record 117 of 569 | vanavara\n",
      "Processing Record 118 of 569 | cervo\n",
      "City not found. Skipping...\n",
      "Processing Record 119 of 568 | calbuco\n",
      "Processing Record 120 of 568 | hobart\n",
      "Processing Record 121 of 568 | yablonovo\n",
      "Processing Record 122 of 568 | ilulissat\n",
      "Processing Record 123 of 568 | bethel\n",
      "Processing Record 124 of 568 | kasongo\n",
      "Processing Record 125 of 568 | alyangula\n",
      "Processing Record 126 of 568 | hasaki\n",
      "Processing Record 127 of 568 | salinopolis\n",
      "Processing Record 128 of 568 | cherskiy\n",
      "Processing Record 129 of 568 | irati\n",
      "Processing Record 130 of 568 | gigmoto\n",
      "Processing Record 131 of 568 | clyde river\n",
      "Processing Record 132 of 568 | kinwat\n",
      "Processing Record 133 of 568 | logrono\n",
      "Processing Record 134 of 568 | atuona\n",
      "Processing Record 135 of 568 | sitka\n",
      "Processing Record 136 of 568 | kutum\n",
      "Processing Record 137 of 568 | bandarbeyla\n",
      "Processing Record 138 of 568 | otavi\n",
      "Processing Record 139 of 568 | airai\n",
      "Processing Record 140 of 568 | urumqi\n",
      "Processing Record 141 of 568 | yulara\n",
      "Processing Record 142 of 568 | ribeira grande\n",
      "Processing Record 143 of 568 | kiunga\n",
      "Processing Record 144 of 568 | livingstonia\n",
      "Processing Record 145 of 568 | pestravka\n",
      "Processing Record 146 of 568 | muyezerskiy\n",
      "Processing Record 147 of 568 | port elizabeth\n",
      "Processing Record 148 of 568 | muros\n",
      "Processing Record 149 of 568 | san patricio\n",
      "Processing Record 150 of 568 | omsukchan\n",
      "Processing Record 151 of 568 | lulea\n",
      "Processing Record 152 of 568 | sinnamary\n",
      "Processing Record 153 of 568 | gizo\n",
      "Processing Record 154 of 568 | axim\n",
      "Processing Record 155 of 568 | ponta delgada\n",
      "City not found. Skipping...\n",
      "Processing Record 156 of 567 | vestmanna\n",
      "Processing Record 157 of 567 | lavrentiya\n",
      "Processing Record 158 of 567 | puerto ayora\n",
      "Processing Record 159 of 567 | upernavik\n",
      "Processing Record 160 of 567 | antalaha\n",
      "Processing Record 161 of 567 | ushtobe\n",
      "Processing Record 162 of 567 | husavik\n",
      "City not found. Skipping...\n",
      "Processing Record 163 of 566 | pangkalanbuun\n",
      "Processing Record 164 of 566 | cartagena del chaira\n",
      "Processing Record 165 of 566 | ostrovnoy\n",
      "Processing Record 166 of 566 | ghanaur\n",
      "Processing Record 167 of 566 | mecca\n",
      "City not found. Skipping...\n",
      "Processing Record 168 of 565 | karimganj\n",
      "Processing Record 169 of 565 | hermanus\n",
      "Processing Record 170 of 565 | oliver\n",
      "Processing Record 171 of 565 | mount gambier\n",
      "Processing Record 172 of 565 | arlit\n",
      "Processing Record 173 of 565 | tank\n",
      "Processing Record 174 of 565 | isabela\n",
      "Processing Record 175 of 565 | salinas\n",
      "Processing Record 176 of 565 | moravsky krumlov\n",
      "Processing Record 177 of 565 | creel\n",
      "Processing Record 178 of 565 | faya\n",
      "Processing Record 179 of 565 | atasu\n",
      "Processing Record 180 of 565 | mareeba\n",
      "Processing Record 181 of 565 | san cristobal\n",
      "City not found. Skipping...\n",
      "Processing Record 182 of 564 | jumla\n",
      "Processing Record 183 of 564 | vardo\n",
      "Processing Record 184 of 564 | aguimes\n",
      "Processing Record 185 of 564 | ixtapa\n",
      "Processing Record 186 of 564 | lac du bonnet\n",
      "Processing Record 187 of 564 | uppsala\n",
      "Processing Record 188 of 564 | pevek\n"
     ]
    },
    {
     "name": "stdout",
     "output_type": "stream",
     "text": [
      "Processing Record 189 of 564 | sechura\n",
      "Processing Record 190 of 564 | chilca\n",
      "Processing Record 191 of 564 | castro\n",
      "City not found. Skipping...\n",
      "Processing Record 192 of 563 | plavinas\n",
      "Processing Record 193 of 563 | thompson\n",
      "Processing Record 194 of 563 | tuatapere\n",
      "Processing Record 195 of 563 | los llanos de aridane\n",
      "Processing Record 196 of 563 | talnakh\n",
      "Processing Record 197 of 563 | san andres\n",
      "City not found. Skipping...\n",
      "City not found. Skipping...\n",
      "Processing Record 198 of 561 | gallup\n",
      "Processing Record 199 of 561 | mayo\n",
      "Processing Record 200 of 561 | mitu\n",
      "Processing Record 201 of 561 | francisco sa\n",
      "Processing Record 202 of 561 | sistranda\n",
      "Processing Record 203 of 561 | pahrump\n",
      "Processing Record 204 of 561 | nisia floresta\n",
      "Processing Record 205 of 561 | codrington\n",
      "Processing Record 206 of 561 | sebes\n",
      "Processing Record 207 of 561 | carutapera\n",
      "Processing Record 208 of 561 | santander\n",
      "Processing Record 209 of 561 | ciudad bolivar\n",
      "Processing Record 210 of 561 | paamiut\n",
      "Processing Record 211 of 561 | sorland\n",
      "Processing Record 212 of 561 | puerto escondido\n",
      "Processing Record 213 of 561 | vanimo\n",
      "Processing Record 214 of 561 | douentza\n",
      "Processing Record 215 of 561 | imuris\n",
      "Processing Record 216 of 561 | erzin\n",
      "Processing Record 217 of 561 | deming\n",
      "Processing Record 218 of 561 | kruisfontein\n",
      "Processing Record 219 of 561 | manthani\n",
      "Processing Record 220 of 561 | hamilton\n",
      "Processing Record 221 of 561 | azul\n",
      "Processing Record 222 of 561 | yerbogachen\n",
      "Processing Record 223 of 561 | caravelas\n",
      "Processing Record 224 of 561 | sola\n",
      "Processing Record 225 of 561 | huesca\n",
      "Processing Record 226 of 561 | eureka\n",
      "Processing Record 227 of 561 | lacey\n",
      "Processing Record 228 of 561 | shingu\n",
      "Processing Record 229 of 561 | acapulco\n",
      "Processing Record 230 of 561 | longyearbyen\n",
      "Processing Record 231 of 561 | mahebourg\n",
      "Processing Record 232 of 561 | auki\n",
      "Processing Record 233 of 561 | vizinga\n",
      "Processing Record 234 of 561 | guilin\n",
      "Processing Record 235 of 561 | whitianga\n",
      "Processing Record 236 of 561 | burnie\n",
      "Processing Record 237 of 561 | isangel\n",
      "Processing Record 238 of 561 | sao filipe\n",
      "Processing Record 239 of 561 | jatiroto\n",
      "Processing Record 240 of 561 | margate\n",
      "Processing Record 241 of 561 | palpa\n",
      "Processing Record 242 of 561 | lompoc\n",
      "Processing Record 243 of 561 | korostyshiv\n",
      "Processing Record 244 of 561 | maniitsoq\n",
      "Processing Record 245 of 561 | port lincoln\n",
      "Processing Record 246 of 561 | pacific grove\n",
      "Processing Record 247 of 561 | yenagoa\n",
      "Processing Record 248 of 561 | muleba\n",
      "Processing Record 249 of 561 | saint anthony\n",
      "Processing Record 250 of 561 | constitucion\n",
      "Processing Record 251 of 561 | broken hill\n",
      "Processing Record 252 of 561 | flin flon\n",
      "Processing Record 253 of 561 | kaitangata\n",
      "Processing Record 254 of 561 | the valley\n",
      "Processing Record 255 of 561 | kendari\n",
      "Processing Record 256 of 561 | sangar\n",
      "Processing Record 257 of 561 | gat\n",
      "Processing Record 258 of 561 | aklavik\n",
      "Processing Record 259 of 561 | maragogi\n",
      "Processing Record 260 of 561 | surskoye\n",
      "City not found. Skipping...\n",
      "Processing Record 261 of 560 | kudahuvadhoo\n",
      "City not found. Skipping...\n",
      "Processing Record 262 of 559 | sioux lookout\n",
      "Processing Record 263 of 559 | mackay\n",
      "Processing Record 264 of 559 | san jose\n",
      "Processing Record 265 of 559 | katsuura\n",
      "Processing Record 266 of 559 | oriximina\n",
      "Processing Record 267 of 559 | bambanglipuro\n",
      "Processing Record 268 of 559 | bethanien\n",
      "Processing Record 269 of 559 | jacqueville\n",
      "Processing Record 270 of 559 | saint-georges\n",
      "Processing Record 271 of 559 | bubaque\n",
      "Processing Record 272 of 559 | terme\n",
      "City not found. Skipping...\n",
      "Processing Record 273 of 558 | yuli\n",
      "Processing Record 274 of 558 | port hawkesbury\n",
      "Processing Record 275 of 558 | san joaquin\n",
      "Processing Record 276 of 558 | luanda\n",
      "Processing Record 277 of 558 | luderitz\n",
      "Processing Record 278 of 558 | faanui\n",
      "Processing Record 279 of 558 | nenjiang\n",
      "Processing Record 280 of 558 | erenhot\n",
      "Processing Record 281 of 558 | ereymentau\n",
      "Processing Record 282 of 558 | chernyshevskiy\n",
      "Processing Record 283 of 558 | russell\n",
      "Processing Record 284 of 558 | kropotkin\n",
      "Processing Record 285 of 558 | ifakara\n",
      "Processing Record 286 of 558 | kieta\n",
      "Processing Record 287 of 558 | hefei\n",
      "Processing Record 288 of 558 | yanaul\n",
      "Processing Record 289 of 558 | nanyang\n",
      "Processing Record 290 of 558 | neuquen\n",
      "Processing Record 291 of 558 | harper\n",
      "Processing Record 292 of 558 | aksarka\n",
      "Processing Record 293 of 558 | grindavik\n",
      "Processing Record 294 of 558 | baghmara\n",
      "Processing Record 295 of 558 | la ronge\n",
      "Processing Record 296 of 558 | zhigansk\n",
      "Processing Record 297 of 558 | brezova\n",
      "Processing Record 298 of 558 | sainte-marie\n",
      "City not found. Skipping...\n",
      "Processing Record 299 of 557 | kasempa\n",
      "Processing Record 300 of 557 | sobolevo\n",
      "City not found. Skipping...\n",
      "Processing Record 301 of 556 | corinto\n",
      "Processing Record 302 of 556 | rovaniemi\n",
      "Processing Record 303 of 556 | moose factory\n",
      "Processing Record 304 of 556 | znamenskoye\n",
      "Processing Record 305 of 556 | grand gaube\n",
      "Processing Record 306 of 556 | dickinson\n",
      "Processing Record 307 of 556 | birao\n",
      "Processing Record 308 of 556 | san quintin\n",
      "Processing Record 309 of 556 | livingstone\n",
      "Processing Record 310 of 556 | adrar\n",
      "Processing Record 311 of 556 | richards bay\n",
      "Processing Record 312 of 556 | college\n",
      "Processing Record 313 of 556 | avera\n",
      "Processing Record 314 of 556 | kununurra\n",
      "Processing Record 315 of 556 | trairi\n",
      "Processing Record 316 of 556 | cidreira\n",
      "Processing Record 317 of 556 | swidnik\n",
      "Processing Record 318 of 556 | berlevag\n",
      "Processing Record 319 of 556 | amboasary\n",
      "Processing Record 320 of 556 | fort-shevchenko\n",
      "Processing Record 321 of 556 | kashi\n",
      "Processing Record 322 of 556 | bay city\n",
      "Processing Record 323 of 556 | whithorn\n",
      "City not found. Skipping...\n",
      "Processing Record 324 of 555 | huilong\n",
      "Processing Record 325 of 555 | durazno\n",
      "Processing Record 326 of 555 | moree\n",
      "Processing Record 327 of 555 | coahuayana\n",
      "Processing Record 328 of 555 | north platte\n",
      "Processing Record 329 of 555 | mehamn\n",
      "City not found. Skipping...\n",
      "Processing Record 330 of 554 | sabang\n",
      "Processing Record 331 of 554 | sept-iles\n",
      "Processing Record 332 of 554 | alofi\n",
      "Processing Record 333 of 554 | isheyevka\n",
      "Processing Record 334 of 554 | batemans bay\n",
      "Processing Record 335 of 554 | biga\n",
      "Processing Record 336 of 554 | camargo\n",
      "Processing Record 337 of 554 | griffith\n",
      "Processing Record 338 of 554 | baghdad\n",
      "Processing Record 339 of 554 | tocopilla\n",
      "Processing Record 340 of 554 | piacabucu\n",
      "Processing Record 341 of 554 | kigoma\n",
      "Processing Record 342 of 554 | panaba\n",
      "Processing Record 343 of 554 | mahibadhoo\n",
      "Processing Record 344 of 554 | vila franca do campo\n",
      "Processing Record 345 of 554 | newport\n",
      "Processing Record 346 of 554 | nizhniy ufaley\n",
      "Processing Record 347 of 554 | klaksvik\n",
      "Processing Record 348 of 554 | huarmey\n",
      "Processing Record 349 of 554 | ingham\n",
      "Processing Record 350 of 554 | gannan\n",
      "Processing Record 351 of 554 | ludwigsfelde\n",
      "Processing Record 352 of 554 | oskarshamn\n",
      "Processing Record 353 of 554 | korla\n",
      "Processing Record 354 of 554 | anadyr\n",
      "Processing Record 355 of 554 | progreso\n",
      "Processing Record 356 of 554 | portales\n",
      "Processing Record 357 of 554 | graham\n",
      "Processing Record 358 of 554 | laguna\n",
      "Processing Record 359 of 554 | palmer\n",
      "Processing Record 360 of 554 | ca mau\n",
      "Processing Record 361 of 554 | remanso\n",
      "Processing Record 362 of 554 | hinatuan\n",
      "Processing Record 363 of 554 | mount isa\n",
      "Processing Record 364 of 554 | lorengau\n",
      "City not found. Skipping...\n",
      "Processing Record 365 of 553 | ketchikan\n",
      "City not found. Skipping...\n",
      "Processing Record 366 of 552 | eisiskes\n",
      "City not found. Skipping...\n",
      "Processing Record 367 of 551 | champerico\n",
      "Processing Record 368 of 551 | maues\n",
      "Processing Record 369 of 551 | nabire\n",
      "Processing Record 370 of 551 | port keats\n",
      "Processing Record 371 of 551 | san-pedro\n",
      "Processing Record 372 of 551 | viedma\n",
      "Processing Record 373 of 551 | onega\n",
      "Processing Record 374 of 551 | gravdal\n",
      "Processing Record 375 of 551 | novaya zaimka\n",
      "Processing Record 376 of 551 | nikolayevsk-na-amure\n",
      "Processing Record 377 of 551 | pisco\n",
      "Processing Record 378 of 551 | mongo\n",
      "Processing Record 379 of 551 | saint-francois\n",
      "Processing Record 380 of 551 | jalu\n",
      "Processing Record 381 of 551 | fairbanks\n",
      "Processing Record 382 of 551 | jarvenpaa\n",
      "Processing Record 383 of 551 | vostok\n",
      "City not found. Skipping...\n"
     ]
    },
    {
     "name": "stdout",
     "output_type": "stream",
     "text": [
      "Processing Record 384 of 550 | raudeberg\n",
      "Processing Record 385 of 550 | kahului\n",
      "Processing Record 386 of 550 | ajdovscina\n",
      "City not found. Skipping...\n",
      "Processing Record 387 of 549 | mumford\n",
      "Processing Record 388 of 549 | sabha\n",
      "City not found. Skipping...\n",
      "Processing Record 389 of 548 | srednekolymsk\n",
      "Processing Record 390 of 548 | merritt island\n",
      "Processing Record 391 of 548 | snezhnogorsk\n",
      "Processing Record 392 of 548 | kollam\n",
      "Processing Record 393 of 548 | palmira\n",
      "Processing Record 394 of 548 | namatanai\n",
      "Processing Record 395 of 548 | san juan\n",
      "Processing Record 396 of 548 | tura\n",
      "Processing Record 397 of 548 | tiksi\n",
      "Processing Record 398 of 548 | biloela\n",
      "Processing Record 399 of 548 | hambantota\n",
      "Processing Record 400 of 548 | eyl\n",
      "Processing Record 401 of 548 | tairua\n",
      "Processing Record 402 of 548 | boa vista\n",
      "Processing Record 403 of 548 | kupang\n",
      "Processing Record 404 of 548 | tortoli\n",
      "City not found. Skipping...\n",
      "City not found. Skipping...\n",
      "Processing Record 405 of 546 | les cayes\n",
      "Processing Record 406 of 546 | fukue\n",
      "Processing Record 407 of 546 | te anau\n",
      "Processing Record 408 of 546 | shache\n",
      "Processing Record 409 of 546 | mariental\n",
      "Processing Record 410 of 546 | abu samrah\n",
      "Processing Record 411 of 546 | touros\n",
      "Processing Record 412 of 546 | bagan\n",
      "Processing Record 413 of 546 | cabo san lucas\n",
      "Processing Record 414 of 546 | akyab\n",
      "Processing Record 415 of 546 | buchanan\n",
      "Processing Record 416 of 546 | guardiagrele\n",
      "Processing Record 417 of 546 | ridgecrest\n",
      "Processing Record 418 of 546 | collie\n",
      "Processing Record 419 of 546 | bitkine\n",
      "Processing Record 420 of 546 | port-cartier\n",
      "Processing Record 421 of 546 | alta floresta\n",
      "Processing Record 422 of 546 | mangochi\n",
      "Processing Record 423 of 546 | port macquarie\n",
      "Processing Record 424 of 546 | nikolayevka\n",
      "Processing Record 425 of 546 | nowogard\n",
      "Processing Record 426 of 546 | kattivakkam\n",
      "Processing Record 427 of 546 | nsanje\n",
      "Processing Record 428 of 546 | bathsheba\n",
      "Processing Record 429 of 546 | valleyview\n",
      "Processing Record 430 of 546 | himatnagar\n",
      "Processing Record 431 of 546 | hit\n",
      "Processing Record 432 of 546 | bireun\n",
      "Processing Record 433 of 546 | azangaro\n",
      "Processing Record 434 of 546 | zeya\n",
      "Processing Record 435 of 546 | meulaboh\n",
      "City not found. Skipping...\n",
      "City not found. Skipping...\n",
      "Processing Record 436 of 544 | utica\n",
      "Processing Record 437 of 544 | podyuga\n",
      "Processing Record 438 of 544 | altay\n",
      "Processing Record 439 of 544 | kisesa\n",
      "Processing Record 440 of 544 | narsaq\n",
      "Processing Record 441 of 544 | hami\n",
      "Processing Record 442 of 544 | praia\n",
      "Processing Record 443 of 544 | el eden\n",
      "Processing Record 444 of 544 | makakilo city\n",
      "Processing Record 445 of 544 | makinsk\n",
      "Processing Record 446 of 544 | romny\n",
      "Processing Record 447 of 544 | culebra\n",
      "Processing Record 448 of 544 | constantine\n",
      "Processing Record 449 of 544 | mormugao\n",
      "Processing Record 450 of 544 | svobodnyy\n",
      "Processing Record 451 of 544 | nouadhibou\n",
      "Processing Record 452 of 544 | praia da vitoria\n",
      "Processing Record 453 of 544 | ostersund\n",
      "Processing Record 454 of 544 | omboue\n",
      "Processing Record 455 of 544 | zyryanka\n",
      "Processing Record 456 of 544 | awbari\n",
      "Processing Record 457 of 544 | basco\n",
      "Processing Record 458 of 544 | mitsamiouli\n",
      "Processing Record 459 of 544 | along\n",
      "Processing Record 460 of 544 | oga\n",
      "Processing Record 461 of 544 | pergamino\n",
      "Processing Record 462 of 544 | dicabisagan\n",
      "Processing Record 463 of 544 | maryville\n",
      "Processing Record 464 of 544 | fort nelson\n",
      "Processing Record 465 of 544 | hammond\n",
      "Processing Record 466 of 544 | anderson\n",
      "City not found. Skipping...\n",
      "City not found. Skipping...\n",
      "Processing Record 467 of 542 | arrecife\n",
      "Processing Record 468 of 542 | amazar\n",
      "Processing Record 469 of 542 | tiznit\n",
      "Processing Record 470 of 542 | gua musang\n",
      "City not found. Skipping...\n",
      "Processing Record 471 of 541 | volokonovka\n",
      "Processing Record 472 of 541 | kilindoni\n",
      "Processing Record 473 of 541 | dubrovka\n",
      "Processing Record 474 of 541 | qaqortoq\n",
      "Processing Record 475 of 541 | asau\n",
      "City not found. Skipping...\n",
      "Processing Record 476 of 540 | cachira\n",
      "Processing Record 477 of 540 | oistins\n",
      "Processing Record 478 of 540 | antofagasta\n",
      "Processing Record 479 of 540 | kizukuri\n",
      "Processing Record 480 of 540 | gorlev\n",
      "City not found. Skipping...\n",
      "Processing Record 481 of 539 | oksfjord\n",
      "Processing Record 482 of 539 | lander\n",
      "Processing Record 483 of 539 | bonavista\n",
      "City not found. Skipping...\n",
      "Processing Record 484 of 538 | ayagoz\n",
      "Processing Record 485 of 538 | ormara\n",
      "Processing Record 486 of 538 | taoudenni\n",
      "Processing Record 487 of 538 | kerman\n",
      "Processing Record 488 of 538 | bombay\n",
      "Processing Record 489 of 538 | bima\n",
      "Processing Record 490 of 538 | camana\n",
      "Processing Record 491 of 538 | rawson\n",
      "Processing Record 492 of 538 | westport\n",
      "Processing Record 493 of 538 | tuzha\n",
      "Processing Record 494 of 538 | guigue\n",
      "Processing Record 495 of 538 | lata\n",
      "Processing Record 496 of 538 | port moresby\n",
      "Processing Record 497 of 538 | kualakapuas\n",
      "Processing Record 498 of 538 | port hedland\n",
      "City not found. Skipping...\n",
      "Processing Record 499 of 537 | palauig\n",
      "Processing Record 500 of 537 | buraydah\n",
      "Processing Record 501 of 537 | trzebiatow\n",
      "Processing Record 502 of 537 | akdagmadeni\n",
      "Processing Record 503 of 537 | khandbari\n",
      "Processing Record 504 of 537 | ariquemes\n",
      "Processing Record 505 of 537 | nelson bay\n",
      "Processing Record 506 of 537 | hosanagara\n",
      "Processing Record 507 of 537 | ust-kuyga\n",
      "Processing Record 508 of 537 | port-gentil\n",
      "Processing Record 509 of 537 | kirakira\n",
      "Processing Record 510 of 537 | padang\n",
      "Processing Record 511 of 537 | arawa\n",
      "Processing Record 512 of 537 | conceicao do araguaia\n",
      "Processing Record 513 of 537 | bosaso\n",
      "Processing Record 514 of 537 | cordoba\n",
      "Processing Record 515 of 537 | aswan\n",
      "Processing Record 516 of 537 | sao jose da coroa grande\n",
      "Processing Record 517 of 537 | dunedin\n",
      "Processing Record 518 of 537 | armizonskoye\n",
      "Processing Record 519 of 537 | aksu\n",
      "Processing Record 520 of 537 | tsumeb\n",
      "Processing Record 521 of 537 | virginia beach\n",
      "Processing Record 522 of 537 | olinda\n",
      "Processing Record 523 of 537 | pervomayskoye\n",
      "Processing Record 524 of 537 | nebug\n",
      "City not found. Skipping...\n",
      "Processing Record 525 of 536 | leshukonskoye\n",
      "Processing Record 526 of 536 | aquiraz\n",
      "City not found. Skipping...\n",
      "Processing Record 527 of 535 | kralendijk\n",
      "Processing Record 528 of 535 | biltine\n",
      "Processing Record 529 of 535 | kaeo\n",
      "Processing Record 530 of 535 | zabol\n",
      "Processing Record 531 of 535 | leh\n",
      "Processing Record 532 of 535 | nishihara\n",
      "Processing Record 533 of 535 | port augusta\n",
      "Processing Record 534 of 535 | udachnyy\n"
     ]
    }
   ],
   "source": [
    "location_name = []\n",
    "location_country = []\n",
    "date = []\n",
    "latitude = []\n",
    "longitude = []\n",
    "max_temperature = []\n",
    "humidity = []\n",
    "wind_speed = []\n",
    "cloudiness = []\n",
    "\n",
    "city_counter=0\n",
    "tot_cities=len(cities)\n",
    "\n",
    "print(\"Beginning Data Retrieval\")\n",
    "print(\"-----------------------------\")\n",
    "for city in cities:\n",
    "    success=True\n",
    "    data_json = requests.get(url+city+extension+weather_api_key)\n",
    "    time.sleep(1)\n",
    "\n",
    "    data_json = data_json.json()\n",
    "    \n",
    "    # code By Lecture or from class\n",
    "    try:\n",
    "        location_name.append(data_json['name'])\n",
    "        location_country.append(data_json['sys']['country'])\n",
    "        date.append(data_json['dt'])\n",
    "        latitude.append(data_json['coord']['lat'])\n",
    "        longitude.append(data_json['coord']['lon'])\n",
    "        max_temperature.append(data_json['main']['temp_max'])\n",
    "        humidity.append(data_json['main']['humidity'])\n",
    "        wind_speed.append(data_json['wind']['speed'])\n",
    "        cloudiness.append(data_json['clouds']['all'])\n",
    "        success=True\n",
    "        \n",
    "    except:\n",
    "        tot_cities -= 1\n",
    "        city_counter = city_counter\n",
    "        print(f\"City not found. Skipping...\")\n",
    "        success=False\n",
    "        \n",
    "    if success:\n",
    "        print(f\"Processing Record {city_counter} of {tot_cities} | {city}\")\n",
    "        city_counter += 1\n"
   ]
  },
  {
   "cell_type": "code",
   "execution_count": null,
   "metadata": {},
   "outputs": [],
   "source": []
  },
  {
   "cell_type": "markdown",
   "metadata": {},
   "source": [
    "### Convert Raw Data to DataFrame\n",
    "* Export the city data into a .csv.\n",
    "* Display the DataFrame"
   ]
  },
  {
   "cell_type": "code",
   "execution_count": 9,
   "metadata": {},
   "outputs": [
    {
     "data": {
      "text/html": [
       "<div>\n",
       "<style scoped>\n",
       "    .dataframe tbody tr th:only-of-type {\n",
       "        vertical-align: middle;\n",
       "    }\n",
       "\n",
       "    .dataframe tbody tr th {\n",
       "        vertical-align: top;\n",
       "    }\n",
       "\n",
       "    .dataframe thead th {\n",
       "        text-align: right;\n",
       "    }\n",
       "</style>\n",
       "<table border=\"1\" class=\"dataframe\">\n",
       "  <thead>\n",
       "    <tr style=\"text-align: right;\">\n",
       "      <th></th>\n",
       "      <th>0</th>\n",
       "    </tr>\n",
       "  </thead>\n",
       "  <tbody>\n",
       "    <tr>\n",
       "      <th>City</th>\n",
       "      <td>535</td>\n",
       "    </tr>\n",
       "    <tr>\n",
       "      <th>Country</th>\n",
       "      <td>535</td>\n",
       "    </tr>\n",
       "    <tr>\n",
       "      <th>Date</th>\n",
       "      <td>535</td>\n",
       "    </tr>\n",
       "    <tr>\n",
       "      <th>Latitude</th>\n",
       "      <td>535</td>\n",
       "    </tr>\n",
       "    <tr>\n",
       "      <th>Longitude</th>\n",
       "      <td>535</td>\n",
       "    </tr>\n",
       "    <tr>\n",
       "      <th>Max Temp(f)</th>\n",
       "      <td>535</td>\n",
       "    </tr>\n",
       "    <tr>\n",
       "      <th>Humidity</th>\n",
       "      <td>535</td>\n",
       "    </tr>\n",
       "    <tr>\n",
       "      <th>Wind Speed</th>\n",
       "      <td>535</td>\n",
       "    </tr>\n",
       "    <tr>\n",
       "      <th>Cloudiness</th>\n",
       "      <td>535</td>\n",
       "    </tr>\n",
       "  </tbody>\n",
       "</table>\n",
       "</div>"
      ],
      "text/plain": [
       "               0\n",
       "City         535\n",
       "Country      535\n",
       "Date         535\n",
       "Latitude     535\n",
       "Longitude    535\n",
       "Max Temp(f)  535\n",
       "Humidity     535\n",
       "Wind Speed   535\n",
       "Cloudiness   535"
      ]
     },
     "execution_count": 9,
     "metadata": {},
     "output_type": "execute_result"
    }
   ],
   "source": [
    "weather_df = pd.DataFrame({\n",
    "    #\"City ID\":len(ids),\n",
    "    \"City\":len(location_name),\n",
    "    \"Country\":len(location_country),\n",
    "    \"Date\":len(date),\n",
    "    \"Latitude\":len(latitude),\n",
    "    \"Longitude\":len(longitude),\n",
    "    \"Max Temp(f)\":len(max_temperature),\n",
    "    \"Humidity\":len(humidity),\n",
    "    \"Wind Speed\":len(wind_speed),\n",
    "    \"Cloudiness\":len(cloudiness),\n",
    "},index=[0]).transpose()\n",
    "weather_df"
   ]
  },
  {
   "cell_type": "code",
   "execution_count": null,
   "metadata": {},
   "outputs": [],
   "source": []
  },
  {
   "cell_type": "markdown",
   "metadata": {},
   "source": [
    "## Inspect the data and remove the cities where the humidity > 100%.\n",
    "----\n",
    "Skip this step if there are no cities that have humidity > 100%. "
   ]
  },
  {
   "cell_type": "code",
   "execution_count": 10,
   "metadata": {},
   "outputs": [
    {
     "data": {
      "text/html": [
       "<div>\n",
       "<style scoped>\n",
       "    .dataframe tbody tr th:only-of-type {\n",
       "        vertical-align: middle;\n",
       "    }\n",
       "\n",
       "    .dataframe tbody tr th {\n",
       "        vertical-align: top;\n",
       "    }\n",
       "\n",
       "    .dataframe thead th {\n",
       "        text-align: right;\n",
       "    }\n",
       "</style>\n",
       "<table border=\"1\" class=\"dataframe\">\n",
       "  <thead>\n",
       "    <tr style=\"text-align: right;\">\n",
       "      <th></th>\n",
       "      <th>City</th>\n",
       "      <th>Country</th>\n",
       "      <th>Date</th>\n",
       "      <th>Latitude</th>\n",
       "      <th>Longitude</th>\n",
       "      <th>Max Temp(f)</th>\n",
       "      <th>Humidity</th>\n",
       "      <th>Wind Speed</th>\n",
       "      <th>Cloudiness</th>\n",
       "    </tr>\n",
       "  </thead>\n",
       "  <tbody>\n",
       "    <tr>\n",
       "      <th>0</th>\n",
       "      <td>Port Alfred</td>\n",
       "      <td>ZA</td>\n",
       "      <td>1613331959</td>\n",
       "      <td>-33.5906</td>\n",
       "      <td>26.8910</td>\n",
       "      <td>72.00</td>\n",
       "      <td>93</td>\n",
       "      <td>4.00</td>\n",
       "      <td>96</td>\n",
       "    </tr>\n",
       "    <tr>\n",
       "      <th>1</th>\n",
       "      <td>Hilo</td>\n",
       "      <td>US</td>\n",
       "      <td>1613331663</td>\n",
       "      <td>19.7297</td>\n",
       "      <td>-155.0900</td>\n",
       "      <td>70.00</td>\n",
       "      <td>83</td>\n",
       "      <td>5.75</td>\n",
       "      <td>90</td>\n",
       "    </tr>\n",
       "    <tr>\n",
       "      <th>2</th>\n",
       "      <td>Yashkul'</td>\n",
       "      <td>RU</td>\n",
       "      <td>1613332535</td>\n",
       "      <td>46.1711</td>\n",
       "      <td>45.3435</td>\n",
       "      <td>29.57</td>\n",
       "      <td>86</td>\n",
       "      <td>9.86</td>\n",
       "      <td>99</td>\n",
       "    </tr>\n",
       "    <tr>\n",
       "      <th>3</th>\n",
       "      <td>Santiago de Cao</td>\n",
       "      <td>PE</td>\n",
       "      <td>1613332535</td>\n",
       "      <td>-7.9589</td>\n",
       "      <td>-79.2392</td>\n",
       "      <td>71.60</td>\n",
       "      <td>88</td>\n",
       "      <td>11.50</td>\n",
       "      <td>75</td>\n",
       "    </tr>\n",
       "    <tr>\n",
       "      <th>4</th>\n",
       "      <td>Hecun</td>\n",
       "      <td>CN</td>\n",
       "      <td>1613332535</td>\n",
       "      <td>36.5333</td>\n",
       "      <td>114.1111</td>\n",
       "      <td>34.03</td>\n",
       "      <td>87</td>\n",
       "      <td>5.88</td>\n",
       "      <td>23</td>\n",
       "    </tr>\n",
       "  </tbody>\n",
       "</table>\n",
       "</div>"
      ],
      "text/plain": [
       "              City Country        Date  Latitude  Longitude  Max Temp(f)  \\\n",
       "0      Port Alfred      ZA  1613331959  -33.5906    26.8910        72.00   \n",
       "1             Hilo      US  1613331663   19.7297  -155.0900        70.00   \n",
       "2         Yashkul'      RU  1613332535   46.1711    45.3435        29.57   \n",
       "3  Santiago de Cao      PE  1613332535   -7.9589   -79.2392        71.60   \n",
       "4            Hecun      CN  1613332535   36.5333   114.1111        34.03   \n",
       "\n",
       "   Humidity  Wind Speed  Cloudiness  \n",
       "0        93        4.00          96  \n",
       "1        83        5.75          90  \n",
       "2        86        9.86          99  \n",
       "3        88       11.50          75  \n",
       "4        87        5.88          23  "
      ]
     },
     "execution_count": 10,
     "metadata": {},
     "output_type": "execute_result"
    }
   ],
   "source": [
    "weather_df = pd.DataFrame({\n",
    "    #\"Location ID\":location_ids,\n",
    "    \"City\":location_name,\n",
    "    \"Country\":location_country,\n",
    "    \"Date\":date,\n",
    "    \"Latitude\":latitude,\n",
    "    \"Longitude\":longitude,\n",
    "    \"Max Temp(f)\":max_temperature,\n",
    "    \"Humidity\":humidity,\n",
    "    \"Wind Speed\":wind_speed,\n",
    "    \"Cloudiness\":cloudiness,\n",
    "})\n",
    "weather_df.to_csv(\"output_data/cities.csv\")\n",
    "weather_df.head()\n"
   ]
  },
  {
   "cell_type": "code",
   "execution_count": null,
   "metadata": {},
   "outputs": [],
   "source": [
    "#  Get the indices of cities that have humidity over 100%.\n"
   ]
  },
  {
   "cell_type": "code",
   "execution_count": null,
   "metadata": {},
   "outputs": [],
   "source": [
    "# Make a new DataFrame equal to the city data to drop all humidity outliers by index.\n",
    "# Passing \"inplace=False\" will make a copy of the city_data DataFrame, which we call \"clean_city_data\".\n"
   ]
  },
  {
   "cell_type": "code",
   "execution_count": null,
   "metadata": {},
   "outputs": [],
   "source": [
    "\n"
   ]
  },
  {
   "cell_type": "markdown",
   "metadata": {},
   "source": [
    "## Plotting the Data\n",
    "* Use proper labeling of the plots using plot titles (including date of analysis) and axes labels.\n",
    "* Save the plotted figures as .pngs."
   ]
  },
  {
   "cell_type": "markdown",
   "metadata": {},
   "source": [
    "## Latitude vs. Temperature Plot"
   ]
  },
  {
   "cell_type": "code",
   "execution_count": 11,
   "metadata": {
    "scrolled": true
   },
   "outputs": [
    {
     "data": {
      "text/plain": [
       "Text(0, 0.5, 'Temperature (f)')"
      ]
     },
     "execution_count": 11,
     "metadata": {},
     "output_type": "execute_result"
    },
    {
     "data": {
      "image/png": "[encoded data removed]",
      "text/plain": [
       "<Figure size 432x288 with 1 Axes>"
      ]
     },
     "metadata": {
      "needs_background": "light"
     },
     "output_type": "display_data"
    }
   ],
   "source": [
    "plt.scatter(weather_df[\"Latitude\"], weather_df[\"Max Temp(f)\"], edgecolors=\"black\")\n",
    "plt.grid(color=\"grey\")\n",
    "plt.title(\"City Latitude vs. Max Temperature (April 3, 2020)\")\n",
    "plt.xlabel(\"Latitude\")\n",
    "plt.ylabel(\"Temperature (f)\")"
   ]
  },
  {
   "cell_type": "markdown",
   "metadata": {},
   "source": [
    "## Latitude vs. Humidity Plot"
   ]
  },
  {
   "cell_type": "code",
   "execution_count": 12,
   "metadata": {},
   "outputs": [
    {
     "data": {
      "text/plain": [
       "Text(0, 0.5, 'Humidity (%)')"
      ]
     },
     "execution_count": 12,
     "metadata": {},
     "output_type": "execute_result"
    },
    {
     "data": {
      "image/png": "[encoded data removed]",
      "text/plain": [
       "<Figure size 432x288 with 1 Axes>"
      ]
     },
     "metadata": {
      "needs_background": "light"
     },
     "output_type": "display_data"
    }
   ],
   "source": [
    "plt.scatter(weather_df[\"Latitude\"], weather_df[\"Humidity\"], edgecolors=\"black\")\n",
    "plt.grid(color=\"grey\")\n",
    "plt.title(\"City Latitude vs Humidity (April 3, 2020)\")\n",
    "plt.xlabel(\"Latitude\")\n",
    "plt.ylabel(\"Humidity (%)\")\n"
   ]
  },
  {
   "cell_type": "markdown",
   "metadata": {},
   "source": [
    "## Latitude vs. Cloudiness Plot"
   ]
  },
  {
   "cell_type": "code",
   "execution_count": 13,
   "metadata": {},
   "outputs": [
    {
     "data": {
      "text/plain": [
       "Text(0, 0.5, 'Cloudiness')"
      ]
     },
     "execution_count": 13,
     "metadata": {},
     "output_type": "execute_result"
    },
    {
     "data": {
      "image/png": "[encoded data removed]",
      "text/plain": [
       "<Figure size 432x288 with 1 Axes>"
      ]
     },
     "metadata": {
      "needs_background": "light"
     },
     "output_type": "display_data"
    }
   ],
   "source": [
    "plt.scatter(weather_df[\"Latitude\"], weather_df[\"Cloudiness\"], edgecolors=\"black\")\n",
    "plt.grid(color=\"grey\")\n",
    "plt.title(\"City Latitude vs. Cloudiness (April 3, 2020)\")\n",
    "plt.xlabel(\"Latitude\")\n",
    "plt.ylabel(\"Cloudiness\")"
   ]
  },
  {
   "cell_type": "markdown",
   "metadata": {},
   "source": [
    "## Latitude vs. Wind Speed Plot"
   ]
  },
  {
   "cell_type": "code",
   "execution_count": 14,
   "metadata": {},
   "outputs": [
    {
     "data": {
      "text/plain": [
       "Text(0, 0.5, 'Wind Speed (mph)')"
      ]
     },
     "execution_count": 14,
     "metadata": {},
     "output_type": "execute_result"
    },
    {
     "data": {
      "image/png": "[encoded data removed]",
      "text/plain": [
       "<Figure size 432x288 with 1 Axes>"
      ]
     },
     "metadata": {
      "needs_background": "light"
     },
     "output_type": "display_data"
    }
   ],
   "source": [
    "plt.scatter(weather_df[\"Latitude\"], weather_df[\"Wind Speed\"], edgecolors=\"black\")\n",
    "plt.grid(color=\"grey\")\n",
    "plt.title(\"City Latitude vs. Wind Speed (April 3, 2020)\")\n",
    "plt.xlabel(\"Latitude\")\n",
    "plt.ylabel(\"Wind Speed (mph)\")"
   ]
  },
  {
   "cell_type": "markdown",
   "metadata": {},
   "source": [
    "## Linear Regression"
   ]
  },
  {
   "cell_type": "code",
   "execution_count": 15,
   "metadata": {},
   "outputs": [],
   "source": [
    "def linear_regression(x, y, xlabel, ylabel, title):\n",
    "    slope, intercept, r_value, p_value, std_err = sp.linregress(x,y)\n",
    "    line = slope*x+intercept\n",
    "    plt.scatter(x, y)\n",
    "    plt.xlabel(xlabel)\n",
    "    plt.ylabel(ylabel)\n",
    "    plt.title(title)\n",
    "    plt.plot(x,line,\"-\", color='r',linewidth=3)\n",
    "    #plt.annotate(line,(x,y),fontsize=15,color=\"red\")\n",
    "    \n",
    "    if slope < 0:\n",
    "        print(f\"R-Squared Value: -{r_value**2}\")\n",
    "    else:\n",
    "        print(f\"R-Squared Value: {r_value**2}\")"
   ]
  },
  {
   "cell_type": "markdown",
   "metadata": {},
   "source": [
    "\n",
    "####  Northern Hemisphere - Max Temp vs. Latitude Linear Regression"
   ]
  },
  {
   "cell_type": "code",
   "execution_count": 23,
   "metadata": {},
   "outputs": [],
   "source": [
    "northern = weather_df[weather_df['Latitude']>0]\n",
    "southern = weather_df[weather_df['Latitude']<0]\n"
   ]
  },
  {
   "cell_type": "code",
   "execution_count": 32,
   "metadata": {},
   "outputs": [
    {
     "name": "stdout",
     "output_type": "stream",
     "text": [
      "The r-squared is: -0.8713976706860305\n"
     ]
    },
    {
     "data": {
      "image/png": "[encoded data removed]",
      "text/plain": [
       "<Figure size 432x288 with 1 Axes>"
      ]
     },
     "metadata": {
      "needs_background": "light"
     },
     "output_type": "display_data"
    },
    {
     "data": {
      "text/plain": [
       "<Figure size 432x288 with 0 Axes>"
      ]
     },
     "metadata": {},
     "output_type": "display_data"
    }
   ],
   "source": [
    "\n",
    "\n",
    "\n",
    "x_values=northern['Latitude']\n",
    "\n",
    "y_values = northern['Max Temp(f)']\n",
    "\n",
    "\n",
    "x_values=northern['Latitude']\n",
    "\n",
    "y_values = northern['Max Temp(f)']\n",
    "\n",
    "\n",
    "(slope, intercept, rvalue, pvalue, stderr) = linregress(x_values, y_values)\n",
    "regress_values = x_values * slope + intercept\n",
    "line_eq = \"y = \" + str(round(slope,2)) + \"x + \" + str(round(intercept,2))\n",
    "plt.scatter(x_values,y_values)\n",
    "plt.plot(x_values,regress_values,\"r-\")\n",
    "plt.annotate(line_eq,(0,50),fontsize=15,color=\"red\")\n",
    "plt.xlabel('Latitude')\n",
    "plt.ylabel('Max Temp')\n",
    "print(f\"The r-squared is: {rvalue}\")\n",
    "\n",
    "plt.show()\n",
    "plt.savefig('output_data/N_linear_Lat_MT.png')\n"
   ]
  },
  {
   "cell_type": "markdown",
   "metadata": {},
   "source": [
    "####  Southern Hemisphere - Max Temp vs. Latitude Linear Regression"
   ]
  },
  {
   "cell_type": "code",
   "execution_count": 34,
   "metadata": {},
   "outputs": [
    {
     "name": "stdout",
     "output_type": "stream",
     "text": [
      "The r-squared is: 0.23613712760898983\n"
     ]
    },
    {
     "data": {
      "image/png": "[encoded data removed]",
      "text/plain": [
       "<Figure size 432x288 with 1 Axes>"
      ]
     },
     "metadata": {
      "needs_background": "light"
     },
     "output_type": "display_data"
    },
    {
     "data": {
      "text/plain": [
       "<Figure size 432x288 with 0 Axes>"
      ]
     },
     "metadata": {},
     "output_type": "display_data"
    }
   ],
   "source": [
    "x_values =southern['Latitude']\n",
    "\n",
    "y_values = southern['Humidity']\n",
    "# plt.scatter(x_values,y_values)\n",
    "# plt.xlabel('Rooms in House')\n",
    "# plt.ylabel('Median House Prices ($1000)')\n",
    "# plt.show()\n",
    "(slope, intercept, rvalue, pvalue, stderr) = linregress(x_values, y_values)\n",
    "regress_values = x_values * slope + intercept\n",
    "line_eq = \"y = \" + str(round(slope,2)) + \"x + \" + str(round(intercept,2))\n",
    "plt.scatter(x_values,y_values)\n",
    "plt.plot(x_values,regress_values,\"r-\")\n",
    "plt.annotate(line_eq,(0,50),fontsize=15,color=\"red\")\n",
    "plt.xlabel('Latitude')\n",
    "plt.ylabel('Max Temp')\n",
    "print(f\"The r-squared is: {rvalue}\")\n",
    "plt.show()\n",
    "plt.savefig('output_data/N_linear_Lat_Hum.png')"
   ]
  },
  {
   "cell_type": "markdown",
   "metadata": {},
   "source": [
    "####  Northern Hemisphere - Humidity (%) vs. Latitude Linear Regression"
   ]
  },
  {
   "cell_type": "code",
   "execution_count": 50,
   "metadata": {},
   "outputs": [
    {
     "name": "stdout",
     "output_type": "stream",
     "text": [
      "The r-squared is: 0.40014568639991943\n"
     ]
    },
    {
     "data": {
      "image/png": "[encoded data removed]",
      "text/plain": [
       "<Figure size 432x288 with 1 Axes>"
      ]
     },
     "metadata": {
      "needs_background": "light"
     },
     "output_type": "display_data"
    },
    {
     "data": {
      "text/plain": [
       "<Figure size 432x288 with 0 Axes>"
      ]
     },
     "metadata": {},
     "output_type": "display_data"
    }
   ],
   "source": [
    "x_values =northern['Latitude']\n",
    "\n",
    "y_values = northern['Humidity']\n",
    "\n",
    "\n",
    "(slope, intercept, rvalue, pvalue, stderr) = linregress(x_values, y_values)\n",
    "regress_values = x_values * slope + intercept\n",
    "line_eq = \"y = \" + str(round(slope,2)) + \"x + \" + str(round(intercept,2))\n",
    "plt.scatter(x_values,y_values)\n",
    "plt.plot(x_values,regress_values,\"r-\")\n",
    "plt.annotate(line_eq,(0,50),fontsize=15,color=\"red\")\n",
    "plt.xlabel('Latitude')\n",
    "plt.ylabel('Humidity')\n",
    "print(f\"The r-squared is: {rvalue}\")\n",
    "plt.show()\n",
    "plt.savefig('output_data/Northern_HumidityLatitude Linear Regression.png')"
   ]
  },
  {
   "cell_type": "markdown",
   "metadata": {},
   "source": [
    "####  Southern Hemisphere - Humidity (%) vs. Latitude Linear Regression"
   ]
  },
  {
   "cell_type": "code",
   "execution_count": 46,
   "metadata": {},
   "outputs": [
    {
     "name": "stdout",
     "output_type": "stream",
     "text": [
      "The r-squared is: 0.23613712760898983\n"
     ]
    },
    {
     "data": {
      "image/png": "[encoded data removed]",
      "text/plain": [
       "<Figure size 432x288 with 1 Axes>"
      ]
     },
     "metadata": {
      "needs_background": "light"
     },
     "output_type": "display_data"
    }
   ],
   "source": [
    "x_values =southern['Latitude']\n",
    "\n",
    "y_values = southern['Humidity']\n",
    "\n",
    "(slope, intercept, rvalue, pvalue, stderr) = linregress(x_values, y_values)\n",
    "regress_values = x_values * slope + intercept\n",
    "line_eq = \"y = \" + str(round(slope,2)) + \"x + \" + str(round(intercept,2))\n",
    "plt.scatter(x_values,y_values)\n",
    "plt.plot(x_values,regress_values,\"r-\")\n",
    "plt.annotate(line_eq,(0,50),fontsize=15,color=\"red\")\n",
    "plt.xlabel('Latitude')\n",
    "plt.ylabel('Humidity')\n",
    "print(f\"The r-squared is: {rvalue}\")\n",
    "plt.show()\n",
    "#plt.savefig('output_data/SouthernHemispherHumidityLatitudeLinearRegression.png')"
   ]
  },
  {
   "cell_type": "markdown",
   "metadata": {},
   "source": [
    "####  Northern Hemisphere - Cloudiness (%) vs. Latitude Linear Regression"
   ]
  },
  {
   "cell_type": "code",
   "execution_count": 51,
   "metadata": {},
   "outputs": [
    {
     "name": "stdout",
     "output_type": "stream",
     "text": [
      "The r-squared is: 0.274885653903451\n"
     ]
    },
    {
     "data": {
      "image/png": "[encoded data removed]",
      "text/plain": [
       "<Figure size 432x288 with 1 Axes>"
      ]
     },
     "metadata": {
      "needs_background": "light"
     },
     "output_type": "display_data"
    },
    {
     "data": {
      "text/plain": [
       "<Figure size 432x288 with 0 Axes>"
      ]
     },
     "metadata": {},
     "output_type": "display_data"
    }
   ],
   "source": [
    "x_values =northern['Latitude']\n",
    "\n",
    "y_values = northern['Cloudiness']\n",
    "# plt.scatter(x_values,y_values)\n",
    "# plt.xlabel('Rooms in House')\n",
    "# plt.ylabel('Median House Prices ($1000)')\n",
    "# plt.show()\n",
    "(slope, intercept, rvalue, pvalue, stderr) = linregress(x_values, y_values)\n",
    "regress_values = x_values * slope + intercept\n",
    "line_eq = \"y = \" + str(round(slope,2)) + \"x + \" + str(round(intercept,2))\n",
    "plt.scatter(x_values,y_values)\n",
    "plt.plot(x_values,regress_values,\"r-\")\n",
    "plt.annotate(line_eq,(0,50),fontsize=15,color=\"red\")\n",
    "plt.xlabel('Latitude')\n",
    "plt.ylabel('Cloudiness')\n",
    "print(f\"The r-squared is: {rvalue}\")\n",
    "plt.show()\n",
    "plt.savefig('output_data/NorthernHemisphereCloudinessLatitude Linear Regression.png')"
   ]
  },
  {
   "cell_type": "markdown",
   "metadata": {},
   "source": [
    "####  Southern Hemisphere - Cloudiness (%) vs. Latitude Linear Regression"
   ]
  },
  {
   "cell_type": "code",
   "execution_count": 52,
   "metadata": {},
   "outputs": [
    {
     "name": "stdout",
     "output_type": "stream",
     "text": [
      "The r-squared is: 0.10023907382120131\n"
     ]
    },
    {
     "data": {
      "image/png": "[encoded data removed]",
      "text/plain": [
       "<Figure size 432x288 with 1 Axes>"
      ]
     },
     "metadata": {
      "needs_background": "light"
     },
     "output_type": "display_data"
    },
    {
     "data": {
      "text/plain": [
       "<Figure size 432x288 with 0 Axes>"
      ]
     },
     "metadata": {},
     "output_type": "display_data"
    }
   ],
   "source": [
    "x_values =southern['Latitude']\n",
    "\n",
    "y_values = southern['Cloudiness']\n",
    "# plt.scatter(x_values,y_values)\n",
    "# plt.xlabel('Rooms in House')\n",
    "# plt.ylabel('Median House Prices ($1000)')\n",
    "# plt.show()\n",
    "(slope, intercept, rvalue, pvalue, stderr) = linregress(x_values, y_values)\n",
    "regress_values = x_values * slope + intercept\n",
    "line_eq = \"y = \" + str(round(slope,2)) + \"x + \" + str(round(intercept,2))\n",
    "plt.scatter(x_values,y_values)\n",
    "plt.plot(x_values,regress_values,\"r-\")\n",
    "plt.annotate(line_eq,(0,50),fontsize=15,color=\"red\")\n",
    "plt.xlabel('Latitude')\n",
    "plt.ylabel('Cloudiness')\n",
    "print(f\"The r-squared is: {rvalue}\")\n",
    "plt.show()\n",
    "plt.savefig('output_data/Southern HemisphereCloudinessLatitude Linear Regression')"
   ]
  },
  {
   "cell_type": "markdown",
   "metadata": {},
   "source": [
    "####  Northern Hemisphere - Wind Speed (mph) vs. Latitude Linear Regression"
   ]
  },
  {
   "cell_type": "code",
   "execution_count": 53,
   "metadata": {},
   "outputs": [
    {
     "name": "stdout",
     "output_type": "stream",
     "text": [
      "The r-squared is: -0.01894195544108258\n"
     ]
    },
    {
     "data": {
      "image/png": "[encoded data removed]",
      "text/plain": [
       "<Figure size 432x288 with 1 Axes>"
      ]
     },
     "metadata": {
      "needs_background": "light"
     },
     "output_type": "display_data"
    },
    {
     "data": {
      "text/plain": [
       "<Figure size 432x288 with 0 Axes>"
      ]
     },
     "metadata": {},
     "output_type": "display_data"
    }
   ],
   "source": [
    "x_values = northern['Latitude']\n",
    "\n",
    "y_values = northern['Wind Speed']\n",
    "# plt.scatter(x_values,y_values)\n",
    "# plt.xlabel('Rooms in House')\n",
    "# plt.ylabel('Median House Prices ($1000)')\n",
    "# plt.show()\n",
    "(slope, intercept, rvalue, pvalue, stderr) = linregress(x_values, y_values)\n",
    "regress_values = x_values * slope + intercept\n",
    "line_eq = \"y = \" + str(round(slope,2)) + \"x + \" + str(round(intercept,2))\n",
    "plt.scatter(x_values,y_values)\n",
    "plt.plot(x_values,regress_values,\"r-\")\n",
    "plt.annotate(line_eq,(0,8),fontsize=15,color=\"red\")\n",
    "plt.xlabel('Wind speed')\n",
    "plt.ylabel('Max Temp')\n",
    "print(f\"The r-squared is: {rvalue}\")\n",
    "plt.show()\n",
    "plt.savefig('output_data/Northern HemisphereWindSpeedLatitude Linear Regression.png')"
   ]
  },
  {
   "cell_type": "markdown",
   "metadata": {},
   "source": [
    "####  Southern Hemisphere - Wind Speed (mph) vs. Latitude Linear Regression"
   ]
  },
  {
   "cell_type": "code",
   "execution_count": null,
   "metadata": {},
   "outputs": [],
   "source": []
  },
  {
   "cell_type": "code",
   "execution_count": null,
   "metadata": {},
   "outputs": [],
   "source": []
  }
 ],
 "metadata": {
  "anaconda-cloud": {},
  "kernel_info": {
   "name": "python3"
  },
  "kernelspec": {
   "display_name": "Python 3",
   "language": "python",
   "name": "python3"
  },
  "language_info": {
   "codemirror_mode": {
    "name": "ipython",
    "version": 3
   },
   "file_extension": ".py",
   "mimetype": "text/x-python",
   "name": "python",
   "nbconvert_exporter": "python",
   "pygments_lexer": "ipython3",
   "version": "3.6.10"
  },
  "latex_envs": {
   "LaTeX_envs_menu_present": true,
   "autoclose": false,
   "autocomplete": true,
   "bibliofile": "biblio.bib",
   "cite_by": "apalike",
   "current_citInitial": 1,
   "eqLabelWithNumbers": true,
   "eqNumInitial": 1,
   "hotkeys": {
    "equation": "Ctrl-E",
    "itemize": "Ctrl-I"
   },
   "labels_anchors": false,
   "latex_user_defs": false,
   "report_style_numbering": false,
   "user_envs_cfg": false
  },
  "nteract": {
   "version": "0.12.3"
  }
 },
 "nbformat": 4,
 "nbformat_minor": 2
}
