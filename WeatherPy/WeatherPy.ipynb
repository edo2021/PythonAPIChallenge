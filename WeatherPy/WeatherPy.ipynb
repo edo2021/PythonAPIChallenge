{
 "cells": [
  {
   "cell_type": "markdown",
   "metadata": {},
   "source": [
    "# WeatherPy\n",
    "----\n",
    "\n",
    "#### Note\n",
    "* Instructions have been included for each segment. You do not have to follow them exactly, but they are included to help you think through the steps."
   ]
  },
  {
   "cell_type": "code",
   "execution_count": 1,
   "metadata": {},
   "outputs": [],
   "source": [
    "# Dependencies and Setup\n",
    "import matplotlib.pyplot as plt\n",
    "import pandas as pd\n",
    "import numpy as np\n",
    "import requests\n",
    "import time\n",
    "from scipy.stats import linregress\n",
    "\n",
    "# Import API key\n",
    "#from api_keys import weather_api_key\n",
    "from api_keys import weather_api_key\n",
    "from api_keys import  g_key\n",
    "\n",
    "\n",
    "# Incorporated citipy to determine city based on latitude and longitude\n",
    "from citipy import citipy"
   ]
  },
  {
   "cell_type": "code",
   "execution_count": 2,
   "metadata": {},
   "outputs": [],
   "source": [
    "# Output File (CSV)\n",
    "output_data_file = \"output_data/cities.csv\""
   ]
  },
  {
   "cell_type": "code",
   "execution_count": 3,
   "metadata": {},
   "outputs": [
    {
     "data": {
      "text/html": [
       "<div>\n",
       "<style scoped>\n",
       "    .dataframe tbody tr th:only-of-type {\n",
       "        vertical-align: middle;\n",
       "    }\n",
       "\n",
       "    .dataframe tbody tr th {\n",
       "        vertical-align: top;\n",
       "    }\n",
       "\n",
       "    .dataframe thead th {\n",
       "        text-align: right;\n",
       "    }\n",
       "</style>\n",
       "<table border=\"1\" class=\"dataframe\">\n",
       "  <thead>\n",
       "    <tr style=\"text-align: right;\">\n",
       "      <th></th>\n",
       "      <th>City_ID</th>\n",
       "      <th>City</th>\n",
       "      <th>Cloudiness</th>\n",
       "      <th>Country</th>\n",
       "      <th>Date</th>\n",
       "      <th>Humidity</th>\n",
       "      <th>Lat</th>\n",
       "      <th>Lng</th>\n",
       "      <th>Max Temp</th>\n",
       "      <th>Wind Speed</th>\n",
       "    </tr>\n",
       "  </thead>\n",
       "  <tbody>\n",
       "    <tr>\n",
       "      <th>0</th>\n",
       "      <td>0</td>\n",
       "      <td>ostrovnoy</td>\n",
       "      <td>2</td>\n",
       "      <td>RU</td>\n",
       "      <td>1558378754</td>\n",
       "      <td>72</td>\n",
       "      <td>68.05</td>\n",
       "      <td>39.51</td>\n",
       "      <td>37.50</td>\n",
       "      <td>7.16</td>\n",
       "    </tr>\n",
       "    <tr>\n",
       "      <th>1</th>\n",
       "      <td>1</td>\n",
       "      <td>mahebourg</td>\n",
       "      <td>75</td>\n",
       "      <td>MU</td>\n",
       "      <td>1558378503</td>\n",
       "      <td>74</td>\n",
       "      <td>-20.41</td>\n",
       "      <td>57.70</td>\n",
       "      <td>78.80</td>\n",
       "      <td>11.41</td>\n",
       "    </tr>\n",
       "    <tr>\n",
       "      <th>2</th>\n",
       "      <td>2</td>\n",
       "      <td>qaanaaq</td>\n",
       "      <td>25</td>\n",
       "      <td>GL</td>\n",
       "      <td>1558378755</td>\n",
       "      <td>73</td>\n",
       "      <td>77.48</td>\n",
       "      <td>-69.36</td>\n",
       "      <td>22.20</td>\n",
       "      <td>2.37</td>\n",
       "    </tr>\n",
       "    <tr>\n",
       "      <th>3</th>\n",
       "      <td>3</td>\n",
       "      <td>zhuhai</td>\n",
       "      <td>0</td>\n",
       "      <td>CN</td>\n",
       "      <td>1558378755</td>\n",
       "      <td>39</td>\n",
       "      <td>40.71</td>\n",
       "      <td>112.04</td>\n",
       "      <td>44.60</td>\n",
       "      <td>4.47</td>\n",
       "    </tr>\n",
       "    <tr>\n",
       "      <th>4</th>\n",
       "      <td>4</td>\n",
       "      <td>cape town</td>\n",
       "      <td>20</td>\n",
       "      <td>ZA</td>\n",
       "      <td>1558378755</td>\n",
       "      <td>76</td>\n",
       "      <td>-33.93</td>\n",
       "      <td>18.42</td>\n",
       "      <td>55.99</td>\n",
       "      <td>8.05</td>\n",
       "    </tr>\n",
       "  </tbody>\n",
       "</table>\n",
       "</div>"
      ],
      "text/plain": [
       "   City_ID       City  Cloudiness Country        Date  Humidity    Lat  \\\n",
       "0        0  ostrovnoy           2      RU  1558378754        72  68.05   \n",
       "1        1  mahebourg          75      MU  1558378503        74 -20.41   \n",
       "2        2    qaanaaq          25      GL  1558378755        73  77.48   \n",
       "3        3     zhuhai           0      CN  1558378755        39  40.71   \n",
       "4        4  cape town          20      ZA  1558378755        76 -33.93   \n",
       "\n",
       "      Lng  Max Temp  Wind Speed  \n",
       "0   39.51     37.50        7.16  \n",
       "1   57.70     78.80       11.41  \n",
       "2  -69.36     22.20        2.37  \n",
       "3  112.04     44.60        4.47  \n",
       "4   18.42     55.99        8.05  "
      ]
     },
     "execution_count": 3,
     "metadata": {},
     "output_type": "execute_result"
    }
   ],
   "source": [
    "#read the csv file and display\n",
    "weatherData=pd.read_csv(output_data_file)\n",
    "weatherData.head()"
   ]
  },
  {
   "cell_type": "code",
   "execution_count": 4,
   "metadata": {
    "scrolled": true
   },
   "outputs": [],
   "source": [
    "# Range of latitudes and longitudes\n",
    "lat_range = (-90, 90)\n",
    "lng_range = (-180, 180)"
   ]
  },
  {
   "cell_type": "markdown",
   "metadata": {},
   "source": [
    "## Generate Cities List"
   ]
  },
  {
   "cell_type": "code",
   "execution_count": 5,
   "metadata": {},
   "outputs": [],
   "source": [
    "# List for holding lat_lngs and cities\n",
    "lat_lngs = []\n",
    "cities = []"
   ]
  },
  {
   "cell_type": "code",
   "execution_count": 6,
   "metadata": {},
   "outputs": [
    {
     "data": {
      "text/plain": [
       "614"
      ]
     },
     "execution_count": 6,
     "metadata": {},
     "output_type": "execute_result"
    }
   ],
   "source": [
    "# Create a set of random lat and lng combinations\n",
    "lats = np.random.uniform(lat_range[0], lat_range[1], size=1500)\n",
    "lngs = np.random.uniform(lng_range[0], lng_range[1], size=1500)\n",
    "lat_lngs = zip(lats, lngs)\n",
    "\n",
    "# Identify nearest city for each lat, lng combination\n",
    "for lat_lng in lat_lngs:\n",
    "    city = citipy.nearest_city(lat_lng[0], lat_lng[1]).city_name\n",
    "    \n",
    "    # If the city is unique, then add it to a our cities list\n",
    "    if city not in cities:\n",
    "        cities.append(city)\n",
    "\n",
    "# Print the city count to confirm sufficient count\n",
    "len(cities)"
   ]
  },
  {
   "cell_type": "markdown",
   "metadata": {},
   "source": [
    "### Perform API Calls\n",
    "* Perform a weather check on each city using a series of successive API calls.\n",
    "* Include a print log of each city as it'sbeing processed (with the city number and city name).\n"
   ]
  },
  {
   "cell_type": "code",
   "execution_count": 7,
   "metadata": {},
   "outputs": [],
   "source": [
    "#Url\n",
    "\n",
    "url = \"http://api.openweathermap.org/data/2.5/weather?q=\"\n",
    "extension = \"&units=imperial&appid=\""
   ]
  },
  {
   "cell_type": "code",
   "execution_count": null,
   "metadata": {
    "scrolled": true
   },
   "outputs": [
    {
     "name": "stdout",
     "output_type": "stream",
     "text": [
      "Beginning Data Retrieval\n",
      "-----------------------------\n",
      "Processing Record 0 of 614 | tahta\n",
      "Processing Record 1 of 614 | rikitea\n",
      "Processing Record 2 of 614 | the valley\n",
      "Processing Record 3 of 614 | puerto ayora\n",
      "Processing Record 4 of 614 | astoria\n",
      "Processing Record 5 of 614 | killarney\n",
      "Processing Record 6 of 614 | richards bay\n",
      "Processing Record 7 of 614 | dikson\n",
      "Processing Record 8 of 614 | ushuaia\n",
      "Processing Record 9 of 614 | castro\n",
      "Processing Record 10 of 614 | avarua\n",
      "Processing Record 11 of 614 | new norfolk\n",
      "Processing Record 12 of 614 | lodja\n",
      "Processing Record 13 of 614 | abu samrah\n",
      "Processing Record 14 of 614 | jamestown\n",
      "Processing Record 15 of 614 | sitka\n",
      "Processing Record 16 of 614 | mar del plata\n",
      "Processing Record 17 of 614 | atuona\n",
      "Processing Record 18 of 614 | saint-joseph\n",
      "Processing Record 19 of 614 | bambous virieux\n",
      "City not found. Skipping...\n",
      "Processing Record 20 of 613 | punta arenas\n",
      "City not found. Skipping...\n",
      "Processing Record 21 of 612 | tiksi\n",
      "Processing Record 22 of 612 | bengkulu\n",
      "Processing Record 23 of 612 | tuktoyaktuk\n",
      "Processing Record 24 of 612 | torbay\n",
      "Processing Record 25 of 612 | port alfred\n",
      "City not found. Skipping...\n",
      "Processing Record 26 of 611 | chokurdakh\n",
      "Processing Record 27 of 611 | airai\n",
      "Processing Record 28 of 611 | bud\n",
      "Processing Record 29 of 611 | sharon\n",
      "Processing Record 30 of 611 | yellowknife\n",
      "Processing Record 31 of 611 | upernavik\n",
      "Processing Record 32 of 611 | busselton\n",
      "Processing Record 33 of 611 | severnyy\n",
      "City not found. Skipping...\n",
      "Processing Record 34 of 610 | broken hill\n",
      "Processing Record 35 of 610 | umm kaddadah\n",
      "Processing Record 36 of 610 | chuy\n",
      "Processing Record 37 of 610 | ponta do sol\n",
      "Processing Record 38 of 610 | hobart\n",
      "Processing Record 39 of 610 | hilo\n",
      "Processing Record 40 of 610 | cidreira\n",
      "Processing Record 41 of 610 | port elizabeth\n",
      "Processing Record 42 of 610 | bethlehem\n",
      "Processing Record 43 of 610 | te anau\n",
      "Processing Record 44 of 610 | zhigansk\n",
      "Processing Record 45 of 610 | abbeville\n",
      "Processing Record 46 of 610 | poum\n",
      "Processing Record 47 of 610 | ancud\n",
      "Processing Record 48 of 610 | kakching\n",
      "Processing Record 49 of 610 | kahului\n",
      "Processing Record 50 of 610 | bluff\n",
      "Processing Record 51 of 610 | lasa\n",
      "Processing Record 52 of 610 | hermanus\n",
      "Processing Record 53 of 610 | sao sepe\n",
      "Processing Record 54 of 610 | mataura\n",
      "Processing Record 55 of 610 | manakara\n",
      "City not found. Skipping...\n",
      "Processing Record 56 of 609 | calabozo\n",
      "Processing Record 57 of 609 | garowe\n",
      "City not found. Skipping...\n",
      "Processing Record 58 of 608 | tosham\n",
      "Processing Record 59 of 608 | atar\n",
      "Processing Record 60 of 608 | perth\n",
      "Processing Record 61 of 608 | nikolskoye\n",
      "Processing Record 62 of 608 | letpadan\n",
      "Processing Record 63 of 608 | adrar\n",
      "Processing Record 64 of 608 | mount isa\n",
      "Processing Record 65 of 608 | darovskoy\n",
      "Processing Record 66 of 608 | san cristobal\n",
      "Processing Record 67 of 608 | klaksvik\n",
      "Processing Record 68 of 608 | pevek\n",
      "Processing Record 69 of 608 | makakilo city\n",
      "Processing Record 70 of 608 | narsaq\n",
      "Processing Record 71 of 608 | butaritari\n",
      "Processing Record 72 of 608 | pangnirtung\n",
      "City not found. Skipping...\n",
      "Processing Record 73 of 607 | arraial do cabo\n",
      "Processing Record 74 of 607 | palasbari\n",
      "Processing Record 75 of 607 | itarema\n",
      "Processing Record 76 of 607 | kodiak\n",
      "City not found. Skipping...\n",
      "Processing Record 77 of 606 | khatanga\n",
      "Processing Record 78 of 606 | chitradurga\n",
      "Processing Record 79 of 606 | kamenka\n",
      "Processing Record 80 of 606 | esperance\n",
      "Processing Record 81 of 606 | vaini\n",
      "Processing Record 82 of 606 | salina cruz\n",
      "Processing Record 83 of 606 | presidente dutra\n",
      "City not found. Skipping...\n",
      "Processing Record 84 of 605 | geraldton\n",
      "Processing Record 85 of 605 | saint-leu\n",
      "Processing Record 86 of 605 | carnarvon\n",
      "Processing Record 87 of 605 | panama city\n",
      "Processing Record 88 of 605 | marathon\n",
      "Processing Record 89 of 605 | cape town\n",
      "Processing Record 90 of 605 | albany\n",
      "Processing Record 91 of 605 | brae\n",
      "City not found. Skipping...\n",
      "Processing Record 92 of 604 | barrow\n",
      "Processing Record 93 of 604 | burgeo\n",
      "Processing Record 94 of 604 | owando\n",
      "Processing Record 95 of 604 | san patricio\n",
      "Processing Record 96 of 604 | saskylakh\n",
      "City not found. Skipping...\n",
      "Processing Record 97 of 603 | honningsvag\n",
      "Processing Record 98 of 603 | juazeiro\n",
      "City not found. Skipping...\n",
      "Processing Record 99 of 602 | henties bay\n",
      "Processing Record 100 of 602 | igarka\n",
      "Processing Record 101 of 602 | berezovyy\n",
      "Processing Record 102 of 602 | alyangula\n",
      "Processing Record 103 of 602 | ilulissat\n",
      "Processing Record 104 of 602 | bundaberg\n",
      "Processing Record 105 of 602 | san carlos de bariloche\n",
      "Processing Record 106 of 602 | nishihara\n",
      "Processing Record 107 of 602 | east london\n",
      "Processing Record 108 of 602 | honiara\n",
      "Processing Record 109 of 602 | sfantu gheorghe\n",
      "Processing Record 110 of 602 | katsuura\n",
      "Processing Record 111 of 602 | pulandian\n",
      "Processing Record 112 of 602 | gazojak\n",
      "City not found. Skipping...\n",
      "Processing Record 113 of 601 | cantagallo\n",
      "Processing Record 114 of 601 | petropavlovsk-kamchatskiy\n",
      "Processing Record 115 of 601 | calvinia\n",
      "Processing Record 116 of 601 | bredasdorp\n",
      "Processing Record 117 of 601 | marystown\n",
      "Processing Record 118 of 601 | santa lucia\n",
      "Processing Record 119 of 601 | sao joao da barra\n",
      "Processing Record 120 of 601 | sibolga\n",
      "Processing Record 121 of 601 | mehamn\n",
      "Processing Record 122 of 601 | labuhan\n",
      "Processing Record 123 of 601 | sangmelima\n",
      "Processing Record 124 of 601 | rawson\n",
      "Processing Record 125 of 601 | williston\n",
      "Processing Record 126 of 601 | khor\n",
      "Processing Record 127 of 601 | bayji\n",
      "Processing Record 128 of 601 | nantucket\n",
      "Processing Record 129 of 601 | kizukuri\n",
      "Processing Record 130 of 601 | leninsk\n",
      "Processing Record 131 of 601 | los llanos de aridane\n",
      "Processing Record 132 of 601 | asau\n",
      "Processing Record 133 of 601 | hellvik\n",
      "Processing Record 134 of 601 | inuvik\n",
      "Processing Record 135 of 601 | kushalgarh\n",
      "Processing Record 136 of 601 | muravlenko\n",
      "Processing Record 137 of 601 | nizhniy tsasuchey\n",
      "Processing Record 138 of 601 | hovd\n",
      "Processing Record 139 of 601 | qaanaaq\n",
      "Processing Record 140 of 601 | karratha\n",
      "Processing Record 141 of 601 | yar-sale\n",
      "Processing Record 142 of 601 | omboue\n",
      "Processing Record 143 of 601 | beloha\n",
      "Processing Record 144 of 601 | xuanhua\n",
      "City not found. Skipping...\n",
      "Processing Record 145 of 600 | hithadhoo\n",
      "Processing Record 146 of 600 | caucaia\n",
      "City not found. Skipping...\n",
      "Processing Record 147 of 599 | larsnes\n",
      "Processing Record 148 of 599 | saint george\n",
      "Processing Record 149 of 599 | anadyr\n",
      "Processing Record 150 of 599 | vao\n",
      "Processing Record 151 of 599 | kloulklubed\n",
      "Processing Record 152 of 599 | kavieng\n",
      "Processing Record 153 of 599 | georgetown\n",
      "Processing Record 154 of 599 | san juan de los morros\n",
      "Processing Record 155 of 599 | yarada\n",
      "Processing Record 156 of 599 | bon accord\n",
      "Processing Record 157 of 599 | taoudenni\n",
      "Processing Record 158 of 599 | kosh-agach\n",
      "Processing Record 159 of 599 | victoria\n",
      "Processing Record 160 of 599 | srednekolymsk\n",
      "Processing Record 161 of 599 | whitianga\n",
      "Processing Record 162 of 599 | mahajanga\n",
      "Processing Record 163 of 599 | luderitz\n",
      "Processing Record 164 of 599 | yulara\n",
      "Processing Record 165 of 599 | hami\n",
      "Processing Record 166 of 599 | olafsvik\n",
      "Processing Record 167 of 599 | shaunavon\n",
      "Processing Record 168 of 599 | shunyi\n",
      "Processing Record 169 of 599 | gouyave\n",
      "City not found. Skipping...\n",
      "City not found. Skipping...\n",
      "Processing Record 170 of 597 | kaohsiung\n",
      "Processing Record 171 of 597 | vypolzovo\n",
      "Processing Record 172 of 597 | bethel\n",
      "Processing Record 173 of 597 | fortuna\n",
      "Processing Record 174 of 597 | sur\n",
      "Processing Record 175 of 597 | cockburn town\n",
      "Processing Record 176 of 597 | tasiilaq\n",
      "Processing Record 177 of 597 | nampula\n",
      "Processing Record 178 of 597 | moron\n",
      "Processing Record 179 of 597 | brownsville\n",
      "Processing Record 180 of 597 | lavrentiya\n",
      "Processing Record 181 of 597 | huarmey\n",
      "Processing Record 182 of 597 | medina\n",
      "City not found. Skipping...\n",
      "Processing Record 183 of 596 | mitu\n",
      "Processing Record 184 of 596 | usinsk\n",
      "Processing Record 185 of 596 | ribeira grande\n",
      "Processing Record 186 of 596 | naze\n",
      "Processing Record 187 of 596 | madang\n",
      "Processing Record 188 of 596 | tuatapere\n",
      "Processing Record 189 of 596 | namibe\n",
      "Processing Record 190 of 596 | beeville\n",
      "Processing Record 191 of 596 | talnakh\n",
      "Processing Record 192 of 596 | comodoro rivadavia\n"
     ]
    },
    {
     "name": "stdout",
     "output_type": "stream",
     "text": [
      "Processing Record 193 of 596 | saldanha\n",
      "Processing Record 194 of 596 | saint-denis\n",
      "Processing Record 195 of 596 | liepaja\n",
      "Processing Record 196 of 596 | nemuro\n",
      "City not found. Skipping...\n",
      "Processing Record 197 of 595 | segezha\n",
      "Processing Record 198 of 595 | lorengau\n",
      "Processing Record 199 of 595 | tierralta\n",
      "Processing Record 200 of 595 | xiaoweizhai\n",
      "Processing Record 201 of 595 | aranos\n",
      "Processing Record 202 of 595 | pacific grove\n",
      "Processing Record 203 of 595 | kruisfontein\n",
      "City not found. Skipping...\n",
      "Processing Record 204 of 594 | saint-pierre\n",
      "Processing Record 205 of 594 | deputatskiy\n",
      "Processing Record 206 of 594 | bull savanna\n",
      "Processing Record 207 of 594 | correntina\n",
      "City not found. Skipping...\n",
      "Processing Record 208 of 593 | longyearbyen\n",
      "Processing Record 209 of 593 | lompoc\n",
      "Processing Record 210 of 593 | lebu\n",
      "Processing Record 211 of 593 | coahuayana\n",
      "Processing Record 212 of 593 | saint-philippe\n",
      "Processing Record 213 of 593 | jeremie\n",
      "Processing Record 214 of 593 | kuala terengganu\n",
      "Processing Record 215 of 593 | khandyga\n",
      "Processing Record 216 of 593 | zyryanka\n",
      "Processing Record 217 of 593 | kapaa\n",
      "Processing Record 218 of 593 | jiblah\n",
      "Processing Record 219 of 593 | husavik\n",
      "Processing Record 220 of 593 | zavyalovo\n",
      "Processing Record 221 of 593 | cabo san lucas\n",
      "Processing Record 222 of 593 | ahipara\n",
      "Processing Record 223 of 593 | fomboni\n",
      "Processing Record 224 of 593 | balkhash\n",
      "Processing Record 225 of 593 | cap-aux-meules\n",
      "Processing Record 226 of 593 | chernyshevskiy\n",
      "Processing Record 227 of 593 | kodinsk\n",
      "Processing Record 228 of 593 | cherskiy\n",
      "Processing Record 229 of 593 | ginda\n",
      "City not found. Skipping...\n",
      "Processing Record 230 of 592 | oranjemund\n",
      "Processing Record 231 of 592 | sambava\n",
      "Processing Record 232 of 592 | mayumba\n",
      "Processing Record 233 of 592 | micheweni\n",
      "Processing Record 234 of 592 | revda\n",
      "Processing Record 235 of 592 | porto franco\n",
      "Processing Record 236 of 592 | dasol\n",
      "Processing Record 237 of 592 | gushikawa\n",
      "Processing Record 238 of 592 | bubaque\n",
      "Processing Record 239 of 592 | christchurch\n",
      "Processing Record 240 of 592 | kamalapuram\n",
      "Processing Record 241 of 592 | tura\n",
      "Processing Record 242 of 592 | kovylkino\n",
      "City not found. Skipping...\n",
      "Processing Record 243 of 591 | flinders\n",
      "Processing Record 244 of 591 | margraten\n",
      "Processing Record 245 of 591 | arlit\n",
      "Processing Record 246 of 591 | shadrinsk\n",
      "Processing Record 247 of 591 | misratah\n",
      "Processing Record 248 of 591 | hofn\n",
      "Processing Record 249 of 591 | kroya\n",
      "Processing Record 250 of 591 | bardiyah\n",
      "Processing Record 251 of 591 | qurbus\n",
      "Processing Record 252 of 591 | coihaique\n",
      "Processing Record 253 of 591 | talaya\n",
      "Processing Record 254 of 591 | muroto\n",
      "Processing Record 255 of 591 | northam\n",
      "Processing Record 256 of 591 | qaqortoq\n",
      "Processing Record 257 of 591 | devils lake\n",
      "Processing Record 258 of 591 | bay-khaak\n",
      "City not found. Skipping...\n",
      "City not found. Skipping...\n",
      "Processing Record 259 of 589 | plettenberg bay\n",
      "Processing Record 260 of 589 | sehithwa\n",
      "Processing Record 261 of 589 | mairana\n",
      "Processing Record 262 of 589 | dubti\n",
      "Processing Record 263 of 589 | hamilton\n",
      "Processing Record 264 of 589 | macamic\n",
      "Processing Record 265 of 589 | saint-augustin\n",
      "Processing Record 266 of 589 | acapulco\n",
      "Processing Record 267 of 589 | senta\n",
      "Processing Record 268 of 589 | severo-kurilsk\n"
     ]
    }
   ],
   "source": [
    "location_name = []\n",
    "location_country = []\n",
    "date = []\n",
    "latitude = []\n",
    "longitude = []\n",
    "max_temperature = []\n",
    "humidity = []\n",
    "wind_speed = []\n",
    "cloudiness = []\n",
    "\n",
    "city_counter=0\n",
    "tot_cities=len(cities)\n",
    "\n",
    "print(\"Beginning Data Retrieval\")\n",
    "print(\"-----------------------------\")\n",
    "for city in cities:\n",
    "    success=True\n",
    "    data_json = requests.get(url+city+extension+weather_api_key)\n",
    "    data_json = data_json.json()\n",
    "    \n",
    "    # code By Lecture or from class\n",
    "    try:\n",
    "        location_name.append(data_json['name'])\n",
    "        location_country.append(data_json['sys']['country'])\n",
    "        date.append(data_json['dt'])\n",
    "        latitude.append(data_json['coord']['lat'])\n",
    "        longitude.append(data_json['coord']['lon'])\n",
    "        max_temperature.append(data_json['main']['temp_max'])\n",
    "        humidity.append(data_json['main']['humidity'])\n",
    "        wind_speed.append(data_json['wind']['speed'])\n",
    "        cloudiness.append(data_json['clouds']['all'])\n",
    "        success=True\n",
    "        \n",
    "    except:\n",
    "        tot_cities -= 1\n",
    "        city_counter = city_counter\n",
    "        print(f\"City not found. Skipping...\")\n",
    "        success=False\n",
    "        \n",
    "    if success:\n",
    "        print(f\"Processing Record {city_counter} of {tot_cities} | {city}\")\n",
    "        city_counter += 1\n"
   ]
  },
  {
   "cell_type": "code",
   "execution_count": null,
   "metadata": {},
   "outputs": [],
   "source": []
  },
  {
   "cell_type": "markdown",
   "metadata": {},
   "source": [
    "### Convert Raw Data to DataFrame\n",
    "* Export the city data into a .csv.\n",
    "* Display the DataFrame"
   ]
  },
  {
   "cell_type": "code",
   "execution_count": null,
   "metadata": {},
   "outputs": [],
   "source": []
  },
  {
   "cell_type": "code",
   "execution_count": null,
   "metadata": {},
   "outputs": [],
   "source": []
  },
  {
   "cell_type": "markdown",
   "metadata": {},
   "source": [
    "## Inspect the data and remove the cities where the humidity > 100%.\n",
    "----\n",
    "Skip this step if there are no cities that have humidity > 100%. "
   ]
  },
  {
   "cell_type": "code",
   "execution_count": null,
   "metadata": {},
   "outputs": [],
   "source": []
  },
  {
   "cell_type": "code",
   "execution_count": null,
   "metadata": {},
   "outputs": [],
   "source": [
    "#  Get the indices of cities that have humidity over 100%.\n"
   ]
  },
  {
   "cell_type": "code",
   "execution_count": null,
   "metadata": {},
   "outputs": [],
   "source": [
    "# Make a new DataFrame equal to the city data to drop all humidity outliers by index.\n",
    "# Passing \"inplace=False\" will make a copy of the city_data DataFrame, which we call \"clean_city_data\".\n"
   ]
  },
  {
   "cell_type": "code",
   "execution_count": null,
   "metadata": {},
   "outputs": [],
   "source": [
    "\n"
   ]
  },
  {
   "cell_type": "markdown",
   "metadata": {},
   "source": [
    "## Plotting the Data\n",
    "* Use proper labeling of the plots using plot titles (including date of analysis) and axes labels.\n",
    "* Save the plotted figures as .pngs."
   ]
  },
  {
   "cell_type": "markdown",
   "metadata": {},
   "source": [
    "## Latitude vs. Temperature Plot"
   ]
  },
  {
   "cell_type": "code",
   "execution_count": null,
   "metadata": {
    "scrolled": true
   },
   "outputs": [],
   "source": []
  },
  {
   "cell_type": "markdown",
   "metadata": {},
   "source": [
    "## Latitude vs. Humidity Plot"
   ]
  },
  {
   "cell_type": "code",
   "execution_count": null,
   "metadata": {},
   "outputs": [],
   "source": []
  },
  {
   "cell_type": "markdown",
   "metadata": {},
   "source": [
    "## Latitude vs. Cloudiness Plot"
   ]
  },
  {
   "cell_type": "code",
   "execution_count": null,
   "metadata": {},
   "outputs": [],
   "source": []
  },
  {
   "cell_type": "markdown",
   "metadata": {},
   "source": [
    "## Latitude vs. Wind Speed Plot"
   ]
  },
  {
   "cell_type": "code",
   "execution_count": null,
   "metadata": {},
   "outputs": [],
   "source": []
  },
  {
   "cell_type": "markdown",
   "metadata": {},
   "source": [
    "## Linear Regression"
   ]
  },
  {
   "cell_type": "code",
   "execution_count": null,
   "metadata": {},
   "outputs": [],
   "source": []
  },
  {
   "cell_type": "markdown",
   "metadata": {},
   "source": [
    "####  Northern Hemisphere - Max Temp vs. Latitude Linear Regression"
   ]
  },
  {
   "cell_type": "code",
   "execution_count": null,
   "metadata": {},
   "outputs": [],
   "source": []
  },
  {
   "cell_type": "markdown",
   "metadata": {},
   "source": [
    "####  Southern Hemisphere - Max Temp vs. Latitude Linear Regression"
   ]
  },
  {
   "cell_type": "code",
   "execution_count": null,
   "metadata": {},
   "outputs": [],
   "source": []
  },
  {
   "cell_type": "markdown",
   "metadata": {},
   "source": [
    "####  Northern Hemisphere - Humidity (%) vs. Latitude Linear Regression"
   ]
  },
  {
   "cell_type": "code",
   "execution_count": null,
   "metadata": {},
   "outputs": [],
   "source": []
  },
  {
   "cell_type": "markdown",
   "metadata": {},
   "source": [
    "####  Southern Hemisphere - Humidity (%) vs. Latitude Linear Regression"
   ]
  },
  {
   "cell_type": "code",
   "execution_count": null,
   "metadata": {},
   "outputs": [],
   "source": []
  },
  {
   "cell_type": "markdown",
   "metadata": {},
   "source": [
    "####  Northern Hemisphere - Cloudiness (%) vs. Latitude Linear Regression"
   ]
  },
  {
   "cell_type": "code",
   "execution_count": null,
   "metadata": {},
   "outputs": [],
   "source": []
  },
  {
   "cell_type": "markdown",
   "metadata": {},
   "source": [
    "####  Southern Hemisphere - Cloudiness (%) vs. Latitude Linear Regression"
   ]
  },
  {
   "cell_type": "code",
   "execution_count": null,
   "metadata": {},
   "outputs": [],
   "source": []
  },
  {
   "cell_type": "markdown",
   "metadata": {},
   "source": [
    "####  Northern Hemisphere - Wind Speed (mph) vs. Latitude Linear Regression"
   ]
  },
  {
   "cell_type": "code",
   "execution_count": null,
   "metadata": {},
   "outputs": [],
   "source": []
  },
  {
   "cell_type": "markdown",
   "metadata": {},
   "source": [
    "####  Southern Hemisphere - Wind Speed (mph) vs. Latitude Linear Regression"
   ]
  },
  {
   "cell_type": "code",
   "execution_count": null,
   "metadata": {},
   "outputs": [],
   "source": []
  },
  {
   "cell_type": "code",
   "execution_count": null,
   "metadata": {},
   "outputs": [],
   "source": []
  }
 ],
 "metadata": {
  "anaconda-cloud": {},
  "kernel_info": {
   "name": "python3"
  },
  "kernelspec": {
   "display_name": "Python 3",
   "language": "python",
   "name": "python3"
  },
  "language_info": {
   "codemirror_mode": {
    "name": "ipython",
    "version": 3
   },
   "file_extension": ".py",
   "mimetype": "text/x-python",
   "name": "python",
   "nbconvert_exporter": "python",
   "pygments_lexer": "ipython3",
   "version": "3.6.10"
  },
  "latex_envs": {
   "LaTeX_envs_menu_present": true,
   "autoclose": false,
   "autocomplete": true,
   "bibliofile": "biblio.bib",
   "cite_by": "apalike",
   "current_citInitial": 1,
   "eqLabelWithNumbers": true,
   "eqNumInitial": 1,
   "hotkeys": {
    "equation": "Ctrl-E",
    "itemize": "Ctrl-I"
   },
   "labels_anchors": false,
   "latex_user_defs": false,
   "report_style_numbering": false,
   "user_envs_cfg": false
  },
  "nteract": {
   "version": "0.12.3"
  }
 },
 "nbformat": 4,
 "nbformat_minor": 2
}
